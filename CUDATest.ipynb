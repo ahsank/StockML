{
  "nbformat": 4,
  "nbformat_minor": 0,
  "metadata": {
    "colab": {
      "provenance": [],
      "gpuType": "V100",
      "authorship_tag": "ABX9TyNam+mec7kmyGOddcnmFaqf",
      "include_colab_link": true
    },
    "kernelspec": {
      "name": "python3",
      "display_name": "Python 3"
    },
    "language_info": {
      "name": "python"
    },
    "accelerator": "GPU"
  },
  "cells": [
    {
      "cell_type": "markdown",
      "metadata": {
        "id": "view-in-github",
        "colab_type": "text"
      },
      "source": [
        "<a href=\"https://colab.research.google.com/github/ahsank/StockML/blob/main/CUDATest.ipynb\" target=\"_parent\"><img src=\"https://colab.research.google.com/assets/colab-badge.svg\" alt=\"Open In Colab\"/></a>"
      ]
    },
    {
      "cell_type": "code",
      "execution_count": 1,
      "metadata": {
        "colab": {
          "base_uri": "https://localhost:8080/"
        },
        "id": "m6CmlSS_75zz",
        "outputId": "a3bbe3b8-4bd7-4c5b-b459-097fded58107"
      },
      "outputs": [
        {
          "output_type": "stream",
          "name": "stdout",
          "text": [
            "nvcc: NVIDIA (R) Cuda compiler driver\n",
            "Copyright (c) 2005-2023 NVIDIA Corporation\n",
            "Built on Tue_Aug_15_22:02:13_PDT_2023\n",
            "Cuda compilation tools, release 12.2, V12.2.140\n",
            "Build cuda_12.2.r12.2/compiler.33191640_0\n"
          ]
        }
      ],
      "source": [
        "!nvcc --version"
      ]
    },
    {
      "cell_type": "code",
      "source": [
        "!nvidia-smi"
      ],
      "metadata": {
        "colab": {
          "base_uri": "https://localhost:8080/"
        },
        "id": "7hidf32TWrxV",
        "outputId": "d9a5aeb8-89a0-490c-ca65-2afc9021d066"
      },
      "execution_count": 30,
      "outputs": [
        {
          "output_type": "stream",
          "name": "stdout",
          "text": [
            "Wed May  1 18:11:31 2024       \n",
            "+---------------------------------------------------------------------------------------+\n",
            "| NVIDIA-SMI 535.104.05             Driver Version: 535.104.05   CUDA Version: 12.2     |\n",
            "|-----------------------------------------+----------------------+----------------------+\n",
            "| GPU  Name                 Persistence-M | Bus-Id        Disp.A | Volatile Uncorr. ECC |\n",
            "| Fan  Temp   Perf          Pwr:Usage/Cap |         Memory-Usage | GPU-Util  Compute M. |\n",
            "|                                         |                      |               MIG M. |\n",
            "|=========================================+======================+======================|\n",
            "|   0  Tesla V100-SXM2-16GB           Off | 00000000:00:04.0 Off |                    0 |\n",
            "| N/A   35C    P0              25W / 300W |      0MiB / 16384MiB |      0%      Default |\n",
            "|                                         |                      |                  N/A |\n",
            "+-----------------------------------------+----------------------+----------------------+\n",
            "                                                                                         \n",
            "+---------------------------------------------------------------------------------------+\n",
            "| Processes:                                                                            |\n",
            "|  GPU   GI   CI        PID   Type   Process name                            GPU Memory |\n",
            "|        ID   ID                                                             Usage      |\n",
            "|=======================================================================================|\n",
            "|  No running processes found                                                           |\n",
            "+---------------------------------------------------------------------------------------+\n"
          ]
        }
      ]
    },
    {
      "cell_type": "code",
      "source": [
        "!pip install nvcc4jupyter"
      ],
      "metadata": {
        "colab": {
          "base_uri": "https://localhost:8080/"
        },
        "id": "2TIPYt0M8C6l",
        "outputId": "86ec2f20-6cb4-4e10-fafa-092426900cd8"
      },
      "execution_count": 2,
      "outputs": [
        {
          "output_type": "stream",
          "name": "stdout",
          "text": [
            "Collecting nvcc4jupyter\n",
            "  Downloading nvcc4jupyter-1.2.1-py3-none-any.whl (10 kB)\n",
            "Installing collected packages: nvcc4jupyter\n",
            "Successfully installed nvcc4jupyter-1.2.1\n"
          ]
        }
      ]
    },
    {
      "cell_type": "code",
      "source": [
        "%load_ext nvcc4jupyter"
      ],
      "metadata": {
        "colab": {
          "base_uri": "https://localhost:8080/"
        },
        "id": "HTqfmuHb8TUw",
        "outputId": "2b6ff33d-e640-4890-c947-8c73f61306ed"
      },
      "execution_count": 3,
      "outputs": [
        {
          "output_type": "stream",
          "name": "stdout",
          "text": [
            "Detected platform \"Colab\". Running its setup...\n",
            "Source files will be saved in \"/tmp/tmprtc7g9od\".\n"
          ]
        }
      ]
    },
    {
      "cell_type": "code",
      "source": [],
      "metadata": {
        "id": "0ZHA2uUwWLyi"
      },
      "execution_count": null,
      "outputs": []
    },
    {
      "cell_type": "code",
      "source": [
        "%%cuda\n",
        "// https://stackoverflow.com/questions/7663343/simplest-possible-example-to-show-gpu-outperform-cpu-using-cuda\n",
        "#include <iostream>\n",
        "#include <chrono>\n",
        "\n",
        "#define N (256*256)\n",
        "#define M (10000)\n",
        "\n",
        "float cpufn() {\n",
        "    float data[N]; int count = 0;\n",
        "    for(int i = 0; i < N; i++)\n",
        "    {\n",
        "      data[i] = 1.0f * i / N;\n",
        "      for(int j = 0; j < M; j++)\n",
        "      {\n",
        "          data[i] = data[i] * data[i] - 0.25f;\n",
        "      }\n",
        "    }\n",
        "    return data[0];\n",
        "}\n",
        "\n",
        "__global__ void cudakernel(float *buf)\n",
        "{\n",
        "     int i = threadIdx.x + blockIdx.x * blockDim.x;\n",
        "     buf[i] = 1.0f * i / N;\n",
        "     for(int j = 0; j < M; j++)\n",
        "        buf[i] = buf[i] * buf[i] - 0.25f;\n",
        "}\n",
        "\n",
        "float gpufn() {\n",
        "    float data[N]; int count = 0;\n",
        "    float *d_data;\n",
        "    cudaMalloc(&d_data, N * sizeof(float));\n",
        "    cudakernel<<<N/256, 256>>>(d_data);\n",
        "    cudaMemcpy(data, d_data, N * sizeof(float), cudaMemcpyDeviceToHost);\n",
        "    cudaFree(d_data);\n",
        "    return data[0];\n",
        "}\n",
        "\n",
        "template <class Fn>\n",
        "void measure(std::string context, Fn fn) {\n",
        "  auto begin = std::chrono::steady_clock::now();\n",
        "  fn();\n",
        "  std::cout << \"Time difference (\" << context << \")= \"\n",
        "    << std::chrono::duration_cast<std::chrono::milliseconds>(std::chrono::steady_clock::now() - begin).count() << \"[ms]\" << std::endl;\n",
        "}\n",
        "\n",
        "int main()\n",
        "{\n",
        "    measure(\"cpu\", cpufn);\n",
        "    measure(\"gpu\", gpufn);\n",
        "    return 0;\n",
        "}"
      ],
      "metadata": {
        "colab": {
          "base_uri": "https://localhost:8080/"
        },
        "id": "WXheBiupNxi4",
        "outputId": "504e7c0b-788b-47d1-9139-d54de7ba72bf"
      },
      "execution_count": 29,
      "outputs": [
        {
          "output_type": "stream",
          "name": "stdout",
          "text": [
            "Time difference (cpu)= 3185[ms]\n",
            "Time difference (gpu)= 122[ms]\n",
            "\n"
          ]
        }
      ]
    }
  ]
}