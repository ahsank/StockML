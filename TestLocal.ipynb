{
  "cells": [
    {
      "cell_type": "code",
      "execution_count": null,
      "metadata": {
        "id": "iRWFgIbnzajB",
        "scrolled": true
      },
      "outputs": [],
      "source": [
        "pip install -q yahoo_fin"
      ]
    },
    {
      "cell_type": "code",
      "execution_count": 2,
      "metadata": {
        "id": "0MuPGKaH3W59"
      },
      "outputs": [],
      "source": [
        "!mkdir -p data results logs\n"
      ]
    },
    {
      "cell_type": "code",
      "execution_count": 3,
      "metadata": {
        "colab": {
          "base_uri": "https://localhost:8080/"
        },
        "id": "mfX08b_RbeEb",
        "outputId": "d23db314-19ee-4668-bb8c-863a6be10120"
      },
      "outputs": [
        {
          "output_type": "stream",
          "name": "stdout",
          "text": [
            "Mounted at /content/drive\n"
          ]
        }
      ],
      "source": [
        "from google.colab import drive\n",
        "drive.mount('/content/drive')\n",
        "!cp  /content/drive/MyDrive/colab/results/* ./results/"
      ]
    },
    {
      "cell_type": "code",
      "source": [
        "pip install  git+https://github.com/ahsank/runml@testv2.01#egg=runml"
      ],
      "metadata": {
        "id": "vhagIOgmjfpP",
        "outputId": "2adac029-9024-4f8f-ffee-6a9013425c7a",
        "colab": {
          "base_uri": "https://localhost:8080/"
        }
      },
      "execution_count": 4,
      "outputs": [
        {
          "output_type": "stream",
          "name": "stdout",
          "text": [
            "Collecting runml\n",
            "  Cloning https://github.com/ahsank/runml (to revision testv2.01) to /tmp/pip-install-7b4yzlmj/runml_f7dcaf5eadf34febacc95d6ff5f51428\n",
            "  Running command git clone --filter=blob:none --quiet https://github.com/ahsank/runml /tmp/pip-install-7b4yzlmj/runml_f7dcaf5eadf34febacc95d6ff5f51428\n",
            "  Running command git checkout -b testv2.01 --track origin/testv2.01\n",
            "  Switched to a new branch 'testv2.01'\n",
            "  Branch 'testv2.01' set up to track remote branch 'testv2.01' from 'origin'.\n",
            "  Resolved https://github.com/ahsank/runml to commit d3099b5453f3b8dcc0d0faf495cc3b228576629e\n",
            "  Preparing metadata (setup.py) ... \u001b[?25l\u001b[?25hdone\n",
            "Building wheels for collected packages: runml\n",
            "  Building wheel for runml (setup.py) ... \u001b[?25l\u001b[?25hdone\n",
            "  Created wheel for runml: filename=runml-0.0.6-py3-none-any.whl size=10505 sha256=652c516bbe963a2de9c8af84ff4945e16225c319f3aa991f169fe8e76524b891\n",
            "  Stored in directory: /tmp/pip-ephem-wheel-cache-kermddu2/wheels/fb/fa/41/71b61c83fe047b182a77d825a0bbc6ea916e039650bd978038\n",
            "Successfully built runml\n",
            "Installing collected packages: runml\n",
            "Successfully installed runml-0.0.6\n"
          ]
        }
      ]
    },
    {
      "cell_type": "code",
      "source": [
        "import runml.pipeline\n",
        "from runml import pipeline,findata\n"
      ],
      "metadata": {
        "id": "WlhPZ1rikTVj"
      },
      "execution_count": 5,
      "outputs": []
    },
    {
      "cell_type": "code",
      "source": [
        "import numpy as np\n",
        "# profit factor 2 = 50% of predicted gain due to early profit taking\n",
        "def addAllocHL(df, stop_loss, profit_factor=1):\n",
        "    #df['Gain_f'] = (2*df['Gain']+df['Gain_l']+df['Gain_h'])/4\n",
        "    df['Gain_f'] = df[['Gain','Gain_l']].max(axis=1)\n",
        "    df['Gain_f'] = df[['Gain_h', 'Gain_f']].min(axis=1)\n",
        "    df['Alloc'] = df['Accu']/stop_loss - (1-df['Accu'])*profit_factor/abs(df['Gain_f'])\n",
        "    df['Alloc'] = np.where(df['Alloc'] < 0, 0, df['Alloc'])\n",
        "    return df"
      ],
      "metadata": {
        "id": "T6BnXtIuCz34"
      },
      "execution_count": 2,
      "outputs": []
    },
    {
      "cell_type": "code",
      "execution_count": null,
      "metadata": {
        "id": "NRNq5x6mTG-q",
        "scrolled": false
      },
      "outputs": [],
      "source": [
        "findata.EPOCHS=200\n",
        "new = []\n",
        "model = \"gstock-12b-test\"\n",
        "tickers = [ 'AEXAF', 'ALSMY', 'AMSSY', 'ASML', 'ADDDF', 'ADYEY',\n",
        "            'BAK', 'BASFY', 'BESIY',\n",
        "            'CAAP', 'CDUAF', 'COTY', 'COVTY', 'CDMGF', 'CPG', 'CX',\n",
        "            'DBOEY',\n",
        "            'EADSF', 'EIFZF', 'EDNMF', 'ENGGY', 'EQNR', 'ERIC', 'ERJ','ESEA',\n",
        "            'FANUY', 'FQVLF', 'GLCNF',  'GLOB', 'HCMLY', 'HDELY',\n",
        "            'HENKY', 'HYMTF', 'HMC', 'KNNGF', 'MELI', 'MGA',\n",
        "            'RACE', 'LYB', 'LVMUY',\n",
        "            'MYTE', 'NHYDY', 'NOK', 'NU', 'NVO', 'NXPI',\n",
        "            'ONON', 'OTGLY', 'PAX', 'POAHF', 'PROSF',\n",
        "            'RNMBF', 'RYCEF', 'SAFRF', 'SFTBY',\n",
        "            'ORAN', 'SAP', 'SE', 'SIEGY', 'STLA',\n",
        "            'TEF', 'TELNF', 'TGLS','THQQF', 'TKAMY', 'TRYIY', 'TSM',\n",
        "            'VALE', 'VNT', 'YARIY', 'ZURVY']\n"
      ]
    },
    {
      "cell_type": "code",
      "source": [
        "findata.EPOCHS=200\n",
        "model = \"val-12b-test\"\n",
        "new = ['DXC', 'FSLR', 'STLD', 'FICO', 'SRE', 'BKR', 'CTAS', 'PEP', 'ADI', 'ROP' ]\n",
        "tickers = ['AAL', 'ADI', 'ALB', 'ANF', 'APO', 'AQN', 'ARCH', 'ARE',\n",
        "            'BAH', 'BAX', 'BKR', 'BGFV', 'BX', 'BXC',\n",
        "            'CBT', 'CC', 'CCI', 'CCJ', 'CF', 'CHK', 'CI', 'CIVI', 'CTAS',\n",
        "            'CG',  'CLS', 'CMI', 'COKE', 'COP', 'CSL',\n",
        "            'DAL', 'DD', 'DINO', 'DVN', 'DXC', 'EMN',\n",
        "            'F', 'FCX', 'FICO', 'FIS', 'FLO', 'FMS', 'FSLR', 'GLW', 'GWW',\n",
        "            'HIW', 'HSII', 'HPE', 'IP', 'IPI', 'IVZ', 'JWN',\n",
        "            'KD', 'KHC', 'KMB', 'KVUE',\n",
        "             'M', 'MMM', 'MOD', 'MPC', 'NFG', 'NTR', 'OMC', 'OLN', 'OSK',\n",
        "            'PARA', 'PCAR', 'PEP', 'PETS', 'PNR', 'POR', 'POWL', 'PSTL', 'PXD',\n",
        "            'RCL', 'RH', 'ROP',\n",
        "            'SAFE', 'SCCO', 'SPTN', 'SPG', 'SRE', 'STLD', 'STRL', 'SWK',\n",
        "            'T', 'TCN', 'TEX', 'TGT', 'TDG', 'TMUS','TWI', 'UAL', 'URI',\n",
        "            'VRTX', 'VZ', 'WDC', 'WHR', 'WSM', 'XOM', 'YORW']"
      ],
      "metadata": {
        "id": "wErxNbA2mLkW"
      },
      "execution_count": 10,
      "outputs": []
    },
    {
      "cell_type": "code",
      "source": [
        "findata.EPOCHS=200\n",
        "model = \"cry-11a-test\"\n",
        "tickers = [ 'ADA-USD', 'BTC-USD', 'DOGE-USD', 'DOT-USD',\n",
        "            'ETH-USD', 'LINK-USD', 'LTC-USD', 'MATIC-USD', 'SOL-USD', 'XRP-USD']"
      ],
      "metadata": {
        "id": "7L5UYIQl4oRD"
      },
      "execution_count": null,
      "outputs": []
    },
    {
      "cell_type": "code",
      "source": [
        "findata.EPOCHS=200\n",
        "model = \"etf-11a-test\"\n",
        "tickers = ['ARKF', 'ARKK', 'ARKW', 'DAPP', 'DIA', 'DTEC', 'EEM', 'FPX',\n",
        "            'ICLN', 'IJR', 'IPO', 'IXC', 'IXN', 'IXP', 'IWM', 'IWO', 'IYZ',\n",
        "            'JETS', 'MGK', 'MGV', 'MTUM',\n",
        "            'ONLN', 'QQQ', 'SMH', 'SMOG', 'SPY', 'TDIV',\n",
        "            'VNQ', 'VT', 'VTI', 'WDIV', 'XITK',\n",
        "            'XLB', 'XLC', 'XLE', 'XLF', 'XLI', 'XLK', 'XLP',\n",
        "            'XLRE', 'XLU', 'XLV', 'XLY', 'XME', 'XNTK', 'XSW' ]"
      ],
      "metadata": {
        "id": "9grkIdXOU1C8"
      },
      "execution_count": null,
      "outputs": []
    },
    {
      "cell_type": "code",
      "source": [
        "findata.EPOCHS=200\n",
        "model = \"mcap-11b-test\"\n",
        "tickers = ['AAPL', 'ACN', 'ADBE', 'AMD', 'AMZN', 'AVGO', 'BA', 'BKNG', 'BRK-B',\n",
        "            'CAT', 'CDNS', 'CRM', 'COST', 'CSCO', 'DE', 'DHR', 'DIS',\n",
        "            'GOOGL', 'FDX', 'HD', 'INTC', 'IBM', 'ISRG',\n",
        "            'META', 'MMC', 'MSFT', 'NKE', 'NVDA', 'NOW',\n",
        "            'ORCL', 'PYPL', 'QCOM', 'SBUX', 'TMO', 'TSLA', 'TXN', 'UNH', 'UPS']"
      ],
      "metadata": {
        "id": "o1CVtzZgpMqu"
      },
      "execution_count": null,
      "outputs": []
    },
    {
      "cell_type": "code",
      "source": [
        "pipeline.IS_VERBOSE = False\n",
        "lossfn = \"huber_loss\"\n",
        "mod = pipeline.RateReturnOnly(\n",
        "    pipeline.FeatureSeq([pipeline.AddDayMonth(),\n",
        "                         pipeline.AddVWap(),\n",
        "                         pipeline.AddMA(200),\n",
        "                         pipeline.Adj()\n",
        "                         ]))\n",
        "\n",
        "\n",
        "df  = pipeline.runModelCombinedVola(tickers, model, mod, False, loss=lossfn)\n"
      ],
      "metadata": {
        "id": "L8f-qv5OCpmp"
      },
      "execution_count": null,
      "outputs": []
    },
    {
      "cell_type": "code",
      "source": [
        "addAllocHL(df, 0.10, 1)\n",
        "df.iloc[(df.Alloc * abs(df.Gain_f)).sort_values(ascending=False).index].head(50)\n",
        "#df.sort_values('Alloc', ascending=False).head(50)\n"
      ],
      "metadata": {
        "id": "M63nPlYyle9K",
        "outputId": "861f8fb7-dfbd-42f1-8c85-6b55553aac06",
        "colab": {
          "base_uri": "https://localhost:8080/",
          "height": 665
        }
      },
      "execution_count": 9,
      "outputs": [
        {
          "output_type": "execute_result",
          "data": {
            "text/plain": [
              "   Ticker  Error  Accu     Buy    Sell   Last       Pred  Gain  Accu_h  \\\n",
              "11    EWY  37.43  0.89  335.07  223.78  65.53  73.699997  0.12    0.68   \n",
              "13    IDX   9.75  0.87   52.42   43.80  17.07  18.590000  0.09    0.74   \n",
              "3      FM  17.75  0.91   88.12   49.34  26.30  29.139999  0.11    0.65   \n",
              "0    ARGT  15.26  0.71  143.08   75.19  51.34  44.990002 -0.12    0.68   \n",
              "9     EWP  16.58  0.85  103.02   63.67  30.62  28.469999 -0.07    0.64   \n",
              "6     EWI  16.47  0.82  111.38   58.46  33.93  31.620001 -0.07    0.71   \n",
              "10    EWW  23.88  0.87  267.15   89.96  67.85  63.480000 -0.06    0.64   \n",
              "16    THD  45.17  0.86  234.22  215.91  63.86  67.480003  0.06    0.68   \n",
              "14    ILF  12.57  0.80  122.96   60.06  29.06  26.840000 -0.08    0.62   \n",
              "15   KEMQ  11.96  0.80  115.26   85.63  14.70  16.510000  0.12    0.55   \n",
              "5     EWA  11.23  0.90   86.27   50.07  24.34  23.040001 -0.05    0.66   \n",
              "2     FLN   8.83  0.84   66.36   51.03  20.79  18.459999 -0.11    0.67   \n",
              "17    TUR  16.43  0.85  180.60   80.49  32.28  29.930000 -0.07    0.66   \n",
              "18   XCEM  16.00  0.91  100.12   71.39  30.27  31.860001  0.05    0.68   \n",
              "7     EWC  16.63  0.91  106.63   68.46  36.68  35.560001 -0.03    0.72   \n",
              "1     EWD  19.59  0.87  161.11  113.34  39.47  40.470001  0.03    0.68   \n",
              "12    EWZ  16.21  0.91  182.57  132.34  34.96  35.380001  0.01    0.71   \n",
              "4     ECH  15.32  0.90  146.68   92.30  28.21  27.690001 -0.02    0.70   \n",
              "8     EWM  16.74  0.89   68.54   59.34  21.25  21.740000  0.02    0.52   \n",
              "\n",
              "     Buy_h  Sell_h     Pred_h  Gain_h  Accu_l   Buy_l  Sell_l     Pred_l  \\\n",
              "11  213.64   97.73  73.919998    0.13    0.69  234.08  251.06  63.860001   \n",
              "13   51.20   27.92  19.080000    0.12    0.68   51.72   22.50  16.889999   \n",
              "3    28.19   29.21  28.420000    0.08    0.71   62.25   54.32  25.959999   \n",
              "0   152.19   -7.38  53.099998    0.03    0.64  121.62    5.01  45.169998   \n",
              "9    68.74   28.16  30.900000    0.01    0.62   59.25   30.52  28.580000   \n",
              "6    82.13   39.17  34.310001    0.01    0.67  104.37   64.97  31.160000   \n",
              "10  144.94   57.56  69.099998    0.02    0.68  148.62   76.29  62.380001   \n",
              "16  203.70   94.06  70.730003    0.11    0.64  128.45  131.02  61.490002   \n",
              "14   85.67   26.97  29.150000    0.00    0.78  112.51   61.32  26.930000   \n",
              "15   20.18   36.64  15.730000    0.07    0.74   96.03   99.07  14.600000   \n",
              "5    74.83   30.74  24.309999   -0.00    0.68   68.32   48.80  23.030001   \n",
              "2    70.30    6.92  20.420000   -0.02    0.76   75.59   67.39  19.469999   \n",
              "17  124.24   64.12  33.439999    0.04    0.71  159.29  141.87  30.520000   \n",
              "18   72.68   37.18  31.389999    0.04    0.68   66.98   52.04  27.549999   \n",
              "7   101.68   54.65  36.930000    0.01    0.65  117.10   73.88  35.669998   \n",
              "1    77.61   61.55  41.959999    0.06    0.73  164.79  146.49  39.150002   \n",
              "12  145.94  104.94  34.369999   -0.02    0.67  100.90   70.34  31.080000   \n",
              "4   122.55   93.20  28.799999    0.02    0.73  142.04  123.34  27.200001   \n",
              "8    11.94   22.03  22.920000    0.08    0.79   54.01   56.38  20.930000   \n",
              "\n",
              "    Gain_l  Gain_f     Alloc  \n",
              "11   -0.03    0.12  7.983333  \n",
              "13   -0.01    0.09  7.255556  \n",
              "3    -0.01    0.08  7.975000  \n",
              "0    -0.12   -0.12  4.683333  \n",
              "9    -0.07   -0.07  6.357143  \n",
              "6    -0.08   -0.07  5.628571  \n",
              "10   -0.08   -0.06  6.533333  \n",
              "16   -0.04    0.06  6.266667  \n",
              "14   -0.07   -0.07  5.142857  \n",
              "15   -0.01    0.07  5.142857  \n",
              "5    -0.05   -0.05  7.000000  \n",
              "2    -0.06   -0.06  5.733333  \n",
              "17   -0.05   -0.05  5.500000  \n",
              "18   -0.09    0.04  6.850000  \n",
              "7    -0.03   -0.03  6.100000  \n",
              "1    -0.01    0.03  4.366667  \n",
              "12   -0.11   -0.02  4.600000  \n",
              "4    -0.04   -0.02  4.000000  \n",
              "8    -0.02    0.02  3.400000  "
            ],
            "text/html": [
              "\n",
              "  <div id=\"df-404f4545-7927-45a3-98d6-6852b6a12eef\" class=\"colab-df-container\">\n",
              "    <div>\n",
              "<style scoped>\n",
              "    .dataframe tbody tr th:only-of-type {\n",
              "        vertical-align: middle;\n",
              "    }\n",
              "\n",
              "    .dataframe tbody tr th {\n",
              "        vertical-align: top;\n",
              "    }\n",
              "\n",
              "    .dataframe thead th {\n",
              "        text-align: right;\n",
              "    }\n",
              "</style>\n",
              "<table border=\"1\" class=\"dataframe\">\n",
              "  <thead>\n",
              "    <tr style=\"text-align: right;\">\n",
              "      <th></th>\n",
              "      <th>Ticker</th>\n",
              "      <th>Error</th>\n",
              "      <th>Accu</th>\n",
              "      <th>Buy</th>\n",
              "      <th>Sell</th>\n",
              "      <th>Last</th>\n",
              "      <th>Pred</th>\n",
              "      <th>Gain</th>\n",
              "      <th>Accu_h</th>\n",
              "      <th>Buy_h</th>\n",
              "      <th>Sell_h</th>\n",
              "      <th>Pred_h</th>\n",
              "      <th>Gain_h</th>\n",
              "      <th>Accu_l</th>\n",
              "      <th>Buy_l</th>\n",
              "      <th>Sell_l</th>\n",
              "      <th>Pred_l</th>\n",
              "      <th>Gain_l</th>\n",
              "      <th>Gain_f</th>\n",
              "      <th>Alloc</th>\n",
              "    </tr>\n",
              "  </thead>\n",
              "  <tbody>\n",
              "    <tr>\n",
              "      <th>11</th>\n",
              "      <td>EWY</td>\n",
              "      <td>37.43</td>\n",
              "      <td>0.89</td>\n",
              "      <td>335.07</td>\n",
              "      <td>223.78</td>\n",
              "      <td>65.53</td>\n",
              "      <td>73.699997</td>\n",
              "      <td>0.12</td>\n",
              "      <td>0.68</td>\n",
              "      <td>213.64</td>\n",
              "      <td>97.73</td>\n",
              "      <td>73.919998</td>\n",
              "      <td>0.13</td>\n",
              "      <td>0.69</td>\n",
              "      <td>234.08</td>\n",
              "      <td>251.06</td>\n",
              "      <td>63.860001</td>\n",
              "      <td>-0.03</td>\n",
              "      <td>0.12</td>\n",
              "      <td>7.983333</td>\n",
              "    </tr>\n",
              "    <tr>\n",
              "      <th>13</th>\n",
              "      <td>IDX</td>\n",
              "      <td>9.75</td>\n",
              "      <td>0.87</td>\n",
              "      <td>52.42</td>\n",
              "      <td>43.80</td>\n",
              "      <td>17.07</td>\n",
              "      <td>18.590000</td>\n",
              "      <td>0.09</td>\n",
              "      <td>0.74</td>\n",
              "      <td>51.20</td>\n",
              "      <td>27.92</td>\n",
              "      <td>19.080000</td>\n",
              "      <td>0.12</td>\n",
              "      <td>0.68</td>\n",
              "      <td>51.72</td>\n",
              "      <td>22.50</td>\n",
              "      <td>16.889999</td>\n",
              "      <td>-0.01</td>\n",
              "      <td>0.09</td>\n",
              "      <td>7.255556</td>\n",
              "    </tr>\n",
              "    <tr>\n",
              "      <th>3</th>\n",
              "      <td>FM</td>\n",
              "      <td>17.75</td>\n",
              "      <td>0.91</td>\n",
              "      <td>88.12</td>\n",
              "      <td>49.34</td>\n",
              "      <td>26.30</td>\n",
              "      <td>29.139999</td>\n",
              "      <td>0.11</td>\n",
              "      <td>0.65</td>\n",
              "      <td>28.19</td>\n",
              "      <td>29.21</td>\n",
              "      <td>28.420000</td>\n",
              "      <td>0.08</td>\n",
              "      <td>0.71</td>\n",
              "      <td>62.25</td>\n",
              "      <td>54.32</td>\n",
              "      <td>25.959999</td>\n",
              "      <td>-0.01</td>\n",
              "      <td>0.08</td>\n",
              "      <td>7.975000</td>\n",
              "    </tr>\n",
              "    <tr>\n",
              "      <th>0</th>\n",
              "      <td>ARGT</td>\n",
              "      <td>15.26</td>\n",
              "      <td>0.71</td>\n",
              "      <td>143.08</td>\n",
              "      <td>75.19</td>\n",
              "      <td>51.34</td>\n",
              "      <td>44.990002</td>\n",
              "      <td>-0.12</td>\n",
              "      <td>0.68</td>\n",
              "      <td>152.19</td>\n",
              "      <td>-7.38</td>\n",
              "      <td>53.099998</td>\n",
              "      <td>0.03</td>\n",
              "      <td>0.64</td>\n",
              "      <td>121.62</td>\n",
              "      <td>5.01</td>\n",
              "      <td>45.169998</td>\n",
              "      <td>-0.12</td>\n",
              "      <td>-0.12</td>\n",
              "      <td>4.683333</td>\n",
              "    </tr>\n",
              "    <tr>\n",
              "      <th>9</th>\n",
              "      <td>EWP</td>\n",
              "      <td>16.58</td>\n",
              "      <td>0.85</td>\n",
              "      <td>103.02</td>\n",
              "      <td>63.67</td>\n",
              "      <td>30.62</td>\n",
              "      <td>28.469999</td>\n",
              "      <td>-0.07</td>\n",
              "      <td>0.64</td>\n",
              "      <td>68.74</td>\n",
              "      <td>28.16</td>\n",
              "      <td>30.900000</td>\n",
              "      <td>0.01</td>\n",
              "      <td>0.62</td>\n",
              "      <td>59.25</td>\n",
              "      <td>30.52</td>\n",
              "      <td>28.580000</td>\n",
              "      <td>-0.07</td>\n",
              "      <td>-0.07</td>\n",
              "      <td>6.357143</td>\n",
              "    </tr>\n",
              "    <tr>\n",
              "      <th>6</th>\n",
              "      <td>EWI</td>\n",
              "      <td>16.47</td>\n",
              "      <td>0.82</td>\n",
              "      <td>111.38</td>\n",
              "      <td>58.46</td>\n",
              "      <td>33.93</td>\n",
              "      <td>31.620001</td>\n",
              "      <td>-0.07</td>\n",
              "      <td>0.71</td>\n",
              "      <td>82.13</td>\n",
              "      <td>39.17</td>\n",
              "      <td>34.310001</td>\n",
              "      <td>0.01</td>\n",
              "      <td>0.67</td>\n",
              "      <td>104.37</td>\n",
              "      <td>64.97</td>\n",
              "      <td>31.160000</td>\n",
              "      <td>-0.08</td>\n",
              "      <td>-0.07</td>\n",
              "      <td>5.628571</td>\n",
              "    </tr>\n",
              "    <tr>\n",
              "      <th>10</th>\n",
              "      <td>EWW</td>\n",
              "      <td>23.88</td>\n",
              "      <td>0.87</td>\n",
              "      <td>267.15</td>\n",
              "      <td>89.96</td>\n",
              "      <td>67.85</td>\n",
              "      <td>63.480000</td>\n",
              "      <td>-0.06</td>\n",
              "      <td>0.64</td>\n",
              "      <td>144.94</td>\n",
              "      <td>57.56</td>\n",
              "      <td>69.099998</td>\n",
              "      <td>0.02</td>\n",
              "      <td>0.68</td>\n",
              "      <td>148.62</td>\n",
              "      <td>76.29</td>\n",
              "      <td>62.380001</td>\n",
              "      <td>-0.08</td>\n",
              "      <td>-0.06</td>\n",
              "      <td>6.533333</td>\n",
              "    </tr>\n",
              "    <tr>\n",
              "      <th>16</th>\n",
              "      <td>THD</td>\n",
              "      <td>45.17</td>\n",
              "      <td>0.86</td>\n",
              "      <td>234.22</td>\n",
              "      <td>215.91</td>\n",
              "      <td>63.86</td>\n",
              "      <td>67.480003</td>\n",
              "      <td>0.06</td>\n",
              "      <td>0.68</td>\n",
              "      <td>203.70</td>\n",
              "      <td>94.06</td>\n",
              "      <td>70.730003</td>\n",
              "      <td>0.11</td>\n",
              "      <td>0.64</td>\n",
              "      <td>128.45</td>\n",
              "      <td>131.02</td>\n",
              "      <td>61.490002</td>\n",
              "      <td>-0.04</td>\n",
              "      <td>0.06</td>\n",
              "      <td>6.266667</td>\n",
              "    </tr>\n",
              "    <tr>\n",
              "      <th>14</th>\n",
              "      <td>ILF</td>\n",
              "      <td>12.57</td>\n",
              "      <td>0.80</td>\n",
              "      <td>122.96</td>\n",
              "      <td>60.06</td>\n",
              "      <td>29.06</td>\n",
              "      <td>26.840000</td>\n",
              "      <td>-0.08</td>\n",
              "      <td>0.62</td>\n",
              "      <td>85.67</td>\n",
              "      <td>26.97</td>\n",
              "      <td>29.150000</td>\n",
              "      <td>0.00</td>\n",
              "      <td>0.78</td>\n",
              "      <td>112.51</td>\n",
              "      <td>61.32</td>\n",
              "      <td>26.930000</td>\n",
              "      <td>-0.07</td>\n",
              "      <td>-0.07</td>\n",
              "      <td>5.142857</td>\n",
              "    </tr>\n",
              "    <tr>\n",
              "      <th>15</th>\n",
              "      <td>KEMQ</td>\n",
              "      <td>11.96</td>\n",
              "      <td>0.80</td>\n",
              "      <td>115.26</td>\n",
              "      <td>85.63</td>\n",
              "      <td>14.70</td>\n",
              "      <td>16.510000</td>\n",
              "      <td>0.12</td>\n",
              "      <td>0.55</td>\n",
              "      <td>20.18</td>\n",
              "      <td>36.64</td>\n",
              "      <td>15.730000</td>\n",
              "      <td>0.07</td>\n",
              "      <td>0.74</td>\n",
              "      <td>96.03</td>\n",
              "      <td>99.07</td>\n",
              "      <td>14.600000</td>\n",
              "      <td>-0.01</td>\n",
              "      <td>0.07</td>\n",
              "      <td>5.142857</td>\n",
              "    </tr>\n",
              "    <tr>\n",
              "      <th>5</th>\n",
              "      <td>EWA</td>\n",
              "      <td>11.23</td>\n",
              "      <td>0.90</td>\n",
              "      <td>86.27</td>\n",
              "      <td>50.07</td>\n",
              "      <td>24.34</td>\n",
              "      <td>23.040001</td>\n",
              "      <td>-0.05</td>\n",
              "      <td>0.66</td>\n",
              "      <td>74.83</td>\n",
              "      <td>30.74</td>\n",
              "      <td>24.309999</td>\n",
              "      <td>-0.00</td>\n",
              "      <td>0.68</td>\n",
              "      <td>68.32</td>\n",
              "      <td>48.80</td>\n",
              "      <td>23.030001</td>\n",
              "      <td>-0.05</td>\n",
              "      <td>-0.05</td>\n",
              "      <td>7.000000</td>\n",
              "    </tr>\n",
              "    <tr>\n",
              "      <th>2</th>\n",
              "      <td>FLN</td>\n",
              "      <td>8.83</td>\n",
              "      <td>0.84</td>\n",
              "      <td>66.36</td>\n",
              "      <td>51.03</td>\n",
              "      <td>20.79</td>\n",
              "      <td>18.459999</td>\n",
              "      <td>-0.11</td>\n",
              "      <td>0.67</td>\n",
              "      <td>70.30</td>\n",
              "      <td>6.92</td>\n",
              "      <td>20.420000</td>\n",
              "      <td>-0.02</td>\n",
              "      <td>0.76</td>\n",
              "      <td>75.59</td>\n",
              "      <td>67.39</td>\n",
              "      <td>19.469999</td>\n",
              "      <td>-0.06</td>\n",
              "      <td>-0.06</td>\n",
              "      <td>5.733333</td>\n",
              "    </tr>\n",
              "    <tr>\n",
              "      <th>17</th>\n",
              "      <td>TUR</td>\n",
              "      <td>16.43</td>\n",
              "      <td>0.85</td>\n",
              "      <td>180.60</td>\n",
              "      <td>80.49</td>\n",
              "      <td>32.28</td>\n",
              "      <td>29.930000</td>\n",
              "      <td>-0.07</td>\n",
              "      <td>0.66</td>\n",
              "      <td>124.24</td>\n",
              "      <td>64.12</td>\n",
              "      <td>33.439999</td>\n",
              "      <td>0.04</td>\n",
              "      <td>0.71</td>\n",
              "      <td>159.29</td>\n",
              "      <td>141.87</td>\n",
              "      <td>30.520000</td>\n",
              "      <td>-0.05</td>\n",
              "      <td>-0.05</td>\n",
              "      <td>5.500000</td>\n",
              "    </tr>\n",
              "    <tr>\n",
              "      <th>18</th>\n",
              "      <td>XCEM</td>\n",
              "      <td>16.00</td>\n",
              "      <td>0.91</td>\n",
              "      <td>100.12</td>\n",
              "      <td>71.39</td>\n",
              "      <td>30.27</td>\n",
              "      <td>31.860001</td>\n",
              "      <td>0.05</td>\n",
              "      <td>0.68</td>\n",
              "      <td>72.68</td>\n",
              "      <td>37.18</td>\n",
              "      <td>31.389999</td>\n",
              "      <td>0.04</td>\n",
              "      <td>0.68</td>\n",
              "      <td>66.98</td>\n",
              "      <td>52.04</td>\n",
              "      <td>27.549999</td>\n",
              "      <td>-0.09</td>\n",
              "      <td>0.04</td>\n",
              "      <td>6.850000</td>\n",
              "    </tr>\n",
              "    <tr>\n",
              "      <th>7</th>\n",
              "      <td>EWC</td>\n",
              "      <td>16.63</td>\n",
              "      <td>0.91</td>\n",
              "      <td>106.63</td>\n",
              "      <td>68.46</td>\n",
              "      <td>36.68</td>\n",
              "      <td>35.560001</td>\n",
              "      <td>-0.03</td>\n",
              "      <td>0.72</td>\n",
              "      <td>101.68</td>\n",
              "      <td>54.65</td>\n",
              "      <td>36.930000</td>\n",
              "      <td>0.01</td>\n",
              "      <td>0.65</td>\n",
              "      <td>117.10</td>\n",
              "      <td>73.88</td>\n",
              "      <td>35.669998</td>\n",
              "      <td>-0.03</td>\n",
              "      <td>-0.03</td>\n",
              "      <td>6.100000</td>\n",
              "    </tr>\n",
              "    <tr>\n",
              "      <th>1</th>\n",
              "      <td>EWD</td>\n",
              "      <td>19.59</td>\n",
              "      <td>0.87</td>\n",
              "      <td>161.11</td>\n",
              "      <td>113.34</td>\n",
              "      <td>39.47</td>\n",
              "      <td>40.470001</td>\n",
              "      <td>0.03</td>\n",
              "      <td>0.68</td>\n",
              "      <td>77.61</td>\n",
              "      <td>61.55</td>\n",
              "      <td>41.959999</td>\n",
              "      <td>0.06</td>\n",
              "      <td>0.73</td>\n",
              "      <td>164.79</td>\n",
              "      <td>146.49</td>\n",
              "      <td>39.150002</td>\n",
              "      <td>-0.01</td>\n",
              "      <td>0.03</td>\n",
              "      <td>4.366667</td>\n",
              "    </tr>\n",
              "    <tr>\n",
              "      <th>12</th>\n",
              "      <td>EWZ</td>\n",
              "      <td>16.21</td>\n",
              "      <td>0.91</td>\n",
              "      <td>182.57</td>\n",
              "      <td>132.34</td>\n",
              "      <td>34.96</td>\n",
              "      <td>35.380001</td>\n",
              "      <td>0.01</td>\n",
              "      <td>0.71</td>\n",
              "      <td>145.94</td>\n",
              "      <td>104.94</td>\n",
              "      <td>34.369999</td>\n",
              "      <td>-0.02</td>\n",
              "      <td>0.67</td>\n",
              "      <td>100.90</td>\n",
              "      <td>70.34</td>\n",
              "      <td>31.080000</td>\n",
              "      <td>-0.11</td>\n",
              "      <td>-0.02</td>\n",
              "      <td>4.600000</td>\n",
              "    </tr>\n",
              "    <tr>\n",
              "      <th>4</th>\n",
              "      <td>ECH</td>\n",
              "      <td>15.32</td>\n",
              "      <td>0.90</td>\n",
              "      <td>146.68</td>\n",
              "      <td>92.30</td>\n",
              "      <td>28.21</td>\n",
              "      <td>27.690001</td>\n",
              "      <td>-0.02</td>\n",
              "      <td>0.70</td>\n",
              "      <td>122.55</td>\n",
              "      <td>93.20</td>\n",
              "      <td>28.799999</td>\n",
              "      <td>0.02</td>\n",
              "      <td>0.73</td>\n",
              "      <td>142.04</td>\n",
              "      <td>123.34</td>\n",
              "      <td>27.200001</td>\n",
              "      <td>-0.04</td>\n",
              "      <td>-0.02</td>\n",
              "      <td>4.000000</td>\n",
              "    </tr>\n",
              "    <tr>\n",
              "      <th>8</th>\n",
              "      <td>EWM</td>\n",
              "      <td>16.74</td>\n",
              "      <td>0.89</td>\n",
              "      <td>68.54</td>\n",
              "      <td>59.34</td>\n",
              "      <td>21.25</td>\n",
              "      <td>21.740000</td>\n",
              "      <td>0.02</td>\n",
              "      <td>0.52</td>\n",
              "      <td>11.94</td>\n",
              "      <td>22.03</td>\n",
              "      <td>22.920000</td>\n",
              "      <td>0.08</td>\n",
              "      <td>0.79</td>\n",
              "      <td>54.01</td>\n",
              "      <td>56.38</td>\n",
              "      <td>20.930000</td>\n",
              "      <td>-0.02</td>\n",
              "      <td>0.02</td>\n",
              "      <td>3.400000</td>\n",
              "    </tr>\n",
              "  </tbody>\n",
              "</table>\n",
              "</div>\n",
              "    <div class=\"colab-df-buttons\">\n",
              "\n",
              "  <div class=\"colab-df-container\">\n",
              "    <button class=\"colab-df-convert\" onclick=\"convertToInteractive('df-404f4545-7927-45a3-98d6-6852b6a12eef')\"\n",
              "            title=\"Convert this dataframe to an interactive table.\"\n",
              "            style=\"display:none;\">\n",
              "\n",
              "  <svg xmlns=\"http://www.w3.org/2000/svg\" height=\"24px\" viewBox=\"0 -960 960 960\">\n",
              "    <path d=\"M120-120v-720h720v720H120Zm60-500h600v-160H180v160Zm220 220h160v-160H400v160Zm0 220h160v-160H400v160ZM180-400h160v-160H180v160Zm440 0h160v-160H620v160ZM180-180h160v-160H180v160Zm440 0h160v-160H620v160Z\"/>\n",
              "  </svg>\n",
              "    </button>\n",
              "\n",
              "  <style>\n",
              "    .colab-df-container {\n",
              "      display:flex;\n",
              "      gap: 12px;\n",
              "    }\n",
              "\n",
              "    .colab-df-convert {\n",
              "      background-color: #E8F0FE;\n",
              "      border: none;\n",
              "      border-radius: 50%;\n",
              "      cursor: pointer;\n",
              "      display: none;\n",
              "      fill: #1967D2;\n",
              "      height: 32px;\n",
              "      padding: 0 0 0 0;\n",
              "      width: 32px;\n",
              "    }\n",
              "\n",
              "    .colab-df-convert:hover {\n",
              "      background-color: #E2EBFA;\n",
              "      box-shadow: 0px 1px 2px rgba(60, 64, 67, 0.3), 0px 1px 3px 1px rgba(60, 64, 67, 0.15);\n",
              "      fill: #174EA6;\n",
              "    }\n",
              "\n",
              "    .colab-df-buttons div {\n",
              "      margin-bottom: 4px;\n",
              "    }\n",
              "\n",
              "    [theme=dark] .colab-df-convert {\n",
              "      background-color: #3B4455;\n",
              "      fill: #D2E3FC;\n",
              "    }\n",
              "\n",
              "    [theme=dark] .colab-df-convert:hover {\n",
              "      background-color: #434B5C;\n",
              "      box-shadow: 0px 1px 3px 1px rgba(0, 0, 0, 0.15);\n",
              "      filter: drop-shadow(0px 1px 2px rgba(0, 0, 0, 0.3));\n",
              "      fill: #FFFFFF;\n",
              "    }\n",
              "  </style>\n",
              "\n",
              "    <script>\n",
              "      const buttonEl =\n",
              "        document.querySelector('#df-404f4545-7927-45a3-98d6-6852b6a12eef button.colab-df-convert');\n",
              "      buttonEl.style.display =\n",
              "        google.colab.kernel.accessAllowed ? 'block' : 'none';\n",
              "\n",
              "      async function convertToInteractive(key) {\n",
              "        const element = document.querySelector('#df-404f4545-7927-45a3-98d6-6852b6a12eef');\n",
              "        const dataTable =\n",
              "          await google.colab.kernel.invokeFunction('convertToInteractive',\n",
              "                                                    [key], {});\n",
              "        if (!dataTable) return;\n",
              "\n",
              "        const docLinkHtml = 'Like what you see? Visit the ' +\n",
              "          '<a target=\"_blank\" href=https://colab.research.google.com/notebooks/data_table.ipynb>data table notebook</a>'\n",
              "          + ' to learn more about interactive tables.';\n",
              "        element.innerHTML = '';\n",
              "        dataTable['output_type'] = 'display_data';\n",
              "        await google.colab.output.renderOutput(dataTable, element);\n",
              "        const docLink = document.createElement('div');\n",
              "        docLink.innerHTML = docLinkHtml;\n",
              "        element.appendChild(docLink);\n",
              "      }\n",
              "    </script>\n",
              "  </div>\n",
              "\n",
              "\n",
              "<div id=\"df-12c83475-6736-4a4a-bde5-5f0205996b7f\">\n",
              "  <button class=\"colab-df-quickchart\" onclick=\"quickchart('df-12c83475-6736-4a4a-bde5-5f0205996b7f')\"\n",
              "            title=\"Suggest charts\"\n",
              "            style=\"display:none;\">\n",
              "\n",
              "<svg xmlns=\"http://www.w3.org/2000/svg\" height=\"24px\"viewBox=\"0 0 24 24\"\n",
              "     width=\"24px\">\n",
              "    <g>\n",
              "        <path d=\"M19 3H5c-1.1 0-2 .9-2 2v14c0 1.1.9 2 2 2h14c1.1 0 2-.9 2-2V5c0-1.1-.9-2-2-2zM9 17H7v-7h2v7zm4 0h-2V7h2v10zm4 0h-2v-4h2v4z\"/>\n",
              "    </g>\n",
              "</svg>\n",
              "  </button>\n",
              "\n",
              "<style>\n",
              "  .colab-df-quickchart {\n",
              "      --bg-color: #E8F0FE;\n",
              "      --fill-color: #1967D2;\n",
              "      --hover-bg-color: #E2EBFA;\n",
              "      --hover-fill-color: #174EA6;\n",
              "      --disabled-fill-color: #AAA;\n",
              "      --disabled-bg-color: #DDD;\n",
              "  }\n",
              "\n",
              "  [theme=dark] .colab-df-quickchart {\n",
              "      --bg-color: #3B4455;\n",
              "      --fill-color: #D2E3FC;\n",
              "      --hover-bg-color: #434B5C;\n",
              "      --hover-fill-color: #FFFFFF;\n",
              "      --disabled-bg-color: #3B4455;\n",
              "      --disabled-fill-color: #666;\n",
              "  }\n",
              "\n",
              "  .colab-df-quickchart {\n",
              "    background-color: var(--bg-color);\n",
              "    border: none;\n",
              "    border-radius: 50%;\n",
              "    cursor: pointer;\n",
              "    display: none;\n",
              "    fill: var(--fill-color);\n",
              "    height: 32px;\n",
              "    padding: 0;\n",
              "    width: 32px;\n",
              "  }\n",
              "\n",
              "  .colab-df-quickchart:hover {\n",
              "    background-color: var(--hover-bg-color);\n",
              "    box-shadow: 0 1px 2px rgba(60, 64, 67, 0.3), 0 1px 3px 1px rgba(60, 64, 67, 0.15);\n",
              "    fill: var(--button-hover-fill-color);\n",
              "  }\n",
              "\n",
              "  .colab-df-quickchart-complete:disabled,\n",
              "  .colab-df-quickchart-complete:disabled:hover {\n",
              "    background-color: var(--disabled-bg-color);\n",
              "    fill: var(--disabled-fill-color);\n",
              "    box-shadow: none;\n",
              "  }\n",
              "\n",
              "  .colab-df-spinner {\n",
              "    border: 2px solid var(--fill-color);\n",
              "    border-color: transparent;\n",
              "    border-bottom-color: var(--fill-color);\n",
              "    animation:\n",
              "      spin 1s steps(1) infinite;\n",
              "  }\n",
              "\n",
              "  @keyframes spin {\n",
              "    0% {\n",
              "      border-color: transparent;\n",
              "      border-bottom-color: var(--fill-color);\n",
              "      border-left-color: var(--fill-color);\n",
              "    }\n",
              "    20% {\n",
              "      border-color: transparent;\n",
              "      border-left-color: var(--fill-color);\n",
              "      border-top-color: var(--fill-color);\n",
              "    }\n",
              "    30% {\n",
              "      border-color: transparent;\n",
              "      border-left-color: var(--fill-color);\n",
              "      border-top-color: var(--fill-color);\n",
              "      border-right-color: var(--fill-color);\n",
              "    }\n",
              "    40% {\n",
              "      border-color: transparent;\n",
              "      border-right-color: var(--fill-color);\n",
              "      border-top-color: var(--fill-color);\n",
              "    }\n",
              "    60% {\n",
              "      border-color: transparent;\n",
              "      border-right-color: var(--fill-color);\n",
              "    }\n",
              "    80% {\n",
              "      border-color: transparent;\n",
              "      border-right-color: var(--fill-color);\n",
              "      border-bottom-color: var(--fill-color);\n",
              "    }\n",
              "    90% {\n",
              "      border-color: transparent;\n",
              "      border-bottom-color: var(--fill-color);\n",
              "    }\n",
              "  }\n",
              "</style>\n",
              "\n",
              "  <script>\n",
              "    async function quickchart(key) {\n",
              "      const quickchartButtonEl =\n",
              "        document.querySelector('#' + key + ' button');\n",
              "      quickchartButtonEl.disabled = true;  // To prevent multiple clicks.\n",
              "      quickchartButtonEl.classList.add('colab-df-spinner');\n",
              "      try {\n",
              "        const charts = await google.colab.kernel.invokeFunction(\n",
              "            'suggestCharts', [key], {});\n",
              "      } catch (error) {\n",
              "        console.error('Error during call to suggestCharts:', error);\n",
              "      }\n",
              "      quickchartButtonEl.classList.remove('colab-df-spinner');\n",
              "      quickchartButtonEl.classList.add('colab-df-quickchart-complete');\n",
              "    }\n",
              "    (() => {\n",
              "      let quickchartButtonEl =\n",
              "        document.querySelector('#df-12c83475-6736-4a4a-bde5-5f0205996b7f button');\n",
              "      quickchartButtonEl.style.display =\n",
              "        google.colab.kernel.accessAllowed ? 'block' : 'none';\n",
              "    })();\n",
              "  </script>\n",
              "</div>\n",
              "\n",
              "    </div>\n",
              "  </div>\n"
            ]
          },
          "metadata": {},
          "execution_count": 9
        }
      ]
    },
    {
      "cell_type": "code",
      "source": [
        "findata.EPOCHS=200\n",
        "model = \"vols-12b-test\"\n",
        "pending = ['ASTR', 'SMWB', 'APPS']\n",
        "tickers = [ 'AIRI', 'AMSC', 'APRN', 'ACHR', 'AUGX', 'AUR',   'ATOM',\n",
        "            'BKKT', 'BGSF', 'BLNK', 'BSGM',\n",
        "            'CARS', 'CLOV', 'CRCT', 'CXM', 'CZOO',\n",
        "            'DLO',  'DM', 'DMTK', 'DPSI', 'EVGO', 'EXPR', 'FSLY', 'FSR', 'FTCH',\n",
        "            'GOVX', 'GRAB', 'GTE', 'HIMS', 'HIVE',\n",
        "            'INLX',  'INVZ', 'JOBY',  'KIND', 'KULR',\n",
        "            'LAZR', 'LUMN', 'NNOX', 'MAX', 'MTTR',\n",
        "            'NEPH', 'NSTG', 'OMQS', 'ONDS', 'OPEN', 'OTLY', 'OUST',\n",
        "            'PAYO', 'PTON', 'REAL', 'REI', 'RIG', 'RKLB', 'RVYL',\n",
        "            'SFIX', 'SOUN', 'STEM', 'SFT',  'TELL', 'VTEX', 'YEXT', 'WKME']\n",
        "future = []"
      ],
      "metadata": {
        "id": "BqVsWVallUyL"
      },
      "execution_count": null,
      "outputs": []
    },
    {
      "cell_type": "code",
      "source": [
        "pending = ['PAR']\n",
        "findata.EPOCHS=200\n",
        "model = \"ipos-12a-test\"\n",
        "tickers = ['ABNB', 'ACLS' ,'AI', 'AMBA', 'APP',\n",
        "           'BILL', 'BMBL', 'CELH', 'CFLT', 'CHGG', 'CRWD', 'CVNA',\n",
        "           'DASH', 'DBX', 'DDOG', 'DOCN', 'DOCS', 'DOCU', 'DT', 'DXCM',\n",
        "           'ENPH', 'ESTC', 'ETSY', 'EXPE', 'FOUR', 'GFS', 'GTLB', 'GLBE', 'GOGO',\n",
        "           'INDI', 'INMD', 'INTA', 'IOT', 'IRDM', 'JKS', 'LYFT',\n",
        "           'MBLY', 'MDB',  'MNDY', 'MNST', 'MPWR',  'MXL',\n",
        "           'MTCH',  'NVCR', 'NTNX', 'OKTA', 'OLED', 'OSTK',\n",
        "           'PERI', 'PANW',  'PAYX', 'PD', 'PLUG', 'PI', 'PINS', 'PUBM',\n",
        "           'RBLX', 'SMCI', 'SNAP', 'SNOW', 'SPLK', 'SQ', 'SPOT',\n",
        "           'TEAM', 'TDOC', 'TOST', 'TRIP', 'TTD', 'TWLO',\n",
        "           'U','UI', 'UBER', 'UPWK', 'WOLF', 'VEEV', 'Z', 'ZM', 'ZS']"
      ],
      "metadata": {
        "id": "pQ1Lu6vGoFMt"
      },
      "execution_count": null,
      "outputs": []
    },
    {
      "cell_type": "code",
      "source": [
        "findata.EPOCHS=200\n",
        "model = \"cetf-11b-test\"\n",
        "tickers = ['ARGT', 'EWD', 'FLN', 'FM',\n",
        "            'ECH', 'EWA', 'EWI', 'EWC', 'EWM', 'EWP', 'EWW', 'EWY', 'EWZ',\n",
        "            'IDX', 'ILF', 'KEMQ', 'THD', 'TUR', 'XCEM']"
      ],
      "metadata": {
        "id": "Hr3qq_BNKEbo"
      },
      "execution_count": 7,
      "outputs": []
    },
    {
      "cell_type": "code",
      "source": [
        "findata.EPOCHS=200\n",
        "model = \"com-12a-test\"\n",
        "tickers = [ 'GLD', 'ISHG', 'PDBC', 'SLV', 'SOYB',\n",
        "            'TIP', 'TLT', 'UUP', 'VTIP', 'WEAT']"
      ],
      "metadata": {
        "id": "WB6nc6tqmO6Q"
      },
      "execution_count": null,
      "outputs": []
    },
    {
      "cell_type": "code",
      "source": [
        "lossfn = \"huber_loss\"\n",
        "pipeline.IS_VERBOSE = False\n",
        "mod = pipeline.RateReturnOnly(\n",
        "    pipeline.FeatureSeq([pipeline.AddDayMonth(),\n",
        "                         pipeline.AddVWap(),\n",
        "                         pipeline.AddMA(200),\n",
        "                         pipeline.Adj()\n",
        "                         ]))\n",
        "\n",
        "\n",
        "#df  = pipeline.runModelCombined(tickers, 'ipos2-3a', mod, False, loss=lossfn, output='low', trading=pipeline.LowTrading)[0]\n",
        "#df  = pipeline.runModelCombined(tickers, 'ipos2-3a', mod, False, loss=lossfn, output='high', trading=pipeline.HighTrading)[0]\n",
        "df  = pipeline.runModelCombinedVola(tickers, model, mod, True, loss=lossfn)"
      ],
      "metadata": {
        "id": "0g6k_MjqIk7D"
      },
      "execution_count": null,
      "outputs": []
    },
    {
      "cell_type": "code",
      "source": [
        "addAllocHL(df, 0.10, 1)\n",
        "df.iloc[(df.Alloc * abs(df.Gain_f)).sort_values(ascending=False).index].head(50)\n",
        "#df.sort_values('Alloc', ascending=False).head(50)"
      ],
      "metadata": {
        "id": "Ui53LUGTIy4j"
      },
      "execution_count": null,
      "outputs": []
    },
    {
      "cell_type": "code",
      "execution_count": null,
      "metadata": {
        "id": "5-bcZhdWxMtx"
      },
      "outputs": [],
      "source": [
        "pip install seaborn"
      ]
    },
    {
      "cell_type": "code",
      "execution_count": null,
      "metadata": {
        "id": "8zmGhmDpxMtx"
      },
      "outputs": [],
      "source": [
        "import seaborn as sns"
      ]
    },
    {
      "cell_type": "markdown",
      "metadata": {
        "id": "l4AuykWZdTyh"
      },
      "source": [
        "Todos:\n",
        "\n",
        "\n",
        "\n",
        "1.   Load previously saved model before training\n",
        "2.   Allow eval only without test/train spliting\n",
        "3.   Incremental data load\n",
        "4.    Add S&P, QQQ etc to the model\n",
        "5. Save model to google drive\n",
        "\n",
        "\n",
        "\n",
        "\n"
      ]
    },
    {
      "cell_type": "code",
      "execution_count": null,
      "metadata": {
        "id": "74aXCtye0_Ty"
      },
      "outputs": [],
      "source": [
        "import sys\n",
        "IN_COLAB = 'google.colab' in sys.modules\n",
        "if IN_COLAB:\n",
        "  !cp  /content/drive/MyDrive/colab/results/* ./results/\n",
        "else:\n",
        "  ! cp ~/Google\\ Drive/My\\ Drive/colab/results/* ./results/"
      ]
    },
    {
      "cell_type": "markdown",
      "metadata": {
        "id": "32PM9X_JRFbK"
      },
      "source": [
        "Run following in local Jupyter"
      ]
    },
    {
      "cell_type": "markdown",
      "metadata": {
        "id": "ESjiEs5XRLK2"
      },
      "source": [
        "Run following 2 cells for colab to import libraries"
      ]
    },
    {
      "cell_type": "markdown",
      "metadata": {
        "id": "XK-XpE7cRXCB"
      },
      "source": [
        "Run following if the library code is modified locally"
      ]
    },
    {
      "cell_type": "code",
      "execution_count": null,
      "metadata": {
        "id": "2nveD-MH1LMt"
      },
      "outputs": [],
      "source": [
        "!git clone https://github.com/ahsank/runml"
      ]
    },
    {
      "cell_type": "code",
      "execution_count": null,
      "metadata": {
        "id": "fqx81EuXwsnI",
        "outputId": "22237b2a-ca44-4798-9d16-eff76b356124"
      },
      "outputs": [
        {
          "name": "stdout",
          "output_type": "stream",
          "text": [
            "/Users/ahsank/src/runml\n"
          ]
        }
      ],
      "source": [
        "import os\n",
        "import sys\n",
        "path = os.path.expanduser('~/src/runml')\n",
        "print(path)\n",
        "if not path in sys.path:\n",
        "  sys.path.append(path)\n",
        "\n",
        "from runml import pipeline,findata"
      ]
    },
    {
      "cell_type": "code",
      "execution_count": null,
      "metadata": {
        "id": "4oFRGi7vxYym"
      },
      "outputs": [],
      "source": [
        "import importlib\n",
        "import sys\n",
        "path = 'runml'\n",
        "if not path in sys.path:\n",
        "  sys.path.append(path)\n",
        "\n",
        "from runml import pipeline,findata\n"
      ]
    },
    {
      "cell_type": "code",
      "execution_count": null,
      "metadata": {
        "id": "kcdzATEECevL"
      },
      "outputs": [],
      "source": [
        "import numpy as np\n",
        "# profit factor 2 = 50% of predicted gain due to early profit taking\n",
        "def addAlloc(df, stop_loss, profit_factor=2):\n",
        "  df['Alloc'] = df['Accu']/stop_loss - (1-df['Accu'])*profit_factor/abs(df['Gain'])\n",
        "  df['Alloc'] = np.where(df['Alloc'] < 0, 0, df['Alloc'])\n",
        "  return df"
      ]
    },
    {
      "cell_type": "markdown",
      "source": [],
      "metadata": {
        "id": "8XRGqEEXIYLF"
      }
    },
    {
      "cell_type": "code",
      "execution_count": null,
      "metadata": {
        "colab": {
          "base_uri": "https://localhost:8080/"
        },
        "id": "ADNm6CsPxMty",
        "outputId": "3ef1617c-1b11-42fe-bce5-60a94211c379"
      },
      "outputs": [
        {
          "data": {
            "text/plain": [
              "<module 'runml.pipeline' from '/Users/ahsank/src/runml/runml/pipeline.py'>"
            ]
          },
          "execution_count": 131,
          "metadata": {},
          "output_type": "execute_result"
        }
      ],
      "source": [
        "from importlib import reload\n",
        "reload(findata)\n",
        "reload(pipeline)"
      ]
    },
    {
      "cell_type": "code",
      "source": [],
      "metadata": {
        "id": "1viCvZbzoCBl"
      },
      "execution_count": null,
      "outputs": []
    },
    {
      "cell_type": "code",
      "execution_count": null,
      "metadata": {
        "id": "_lUUYXO9xMty"
      },
      "outputs": [],
      "source": [
        "import pandas as pd\n",
        "df1 = pipeline.fetch_data('ABNB')\n",
        "#df1.sort_index(inplace=True)\n",
        "df1 = df1.round(3)\n",
        "\n",
        "df2 = pd.read_csv('data/ABNB_2023-04-15.csv', index_col=0)\n",
        "df2.index =  pd.to_datetime(df2.index)\n",
        "# df2 = df2.round(3)\n",
        "#data2 = data.tail(1000)\n",
        "#pd.concat([df1,df2]).drop_duplicates(keep=False)\n",
        "#df1.compare(df2)\n",
        "#df2.index.dtype\n",
        "df1"
      ]
    },
    {
      "cell_type": "code",
      "execution_count": null,
      "metadata": {
        "id": "Sw99bVXNIEym"
      },
      "outputs": [],
      "source": [
        "display(df.sort_values('Gain', ascending=False))\n",
        "display(df[[\"Buy\", \"Sell\", \"Total\"]].sum()/len(df))\n"
      ]
    },
    {
      "cell_type": "code",
      "execution_count": null,
      "metadata": {
        "id": "g8YUKnIIxMtz"
      },
      "outputs": [],
      "source": [
        "results['ABNB'].pdata.__dict__.keys()"
      ]
    },
    {
      "cell_type": "code",
      "execution_count": null,
      "metadata": {
        "id": "8f5Ns68gHHpf"
      },
      "outputs": [],
      "source": [
        "findata.EPOCHS=10\n",
        "tickers1 = ['ARKK', 'ARKW', 'DAPP', 'DTEC', 'EEM', 'FPX',\n",
        "            'GBTC', 'GLD',\n",
        "            'ICLN', 'IJR', 'IPO', 'IPOS', 'IWM',\n",
        "            'JETS', 'KEMQ',\n",
        "            'MGK', 'MGV', 'MOAT', 'MTUM',\n",
        "            'QQQ', 'SLV','SMH', 'SMOG',\n",
        "            'SPY', 'VNQ', 'VT', 'VTI', 'WDIV',\n",
        "            'XLB', 'XLC', 'XLE', 'XLF', 'XLI', 'XLK',\n",
        "            'XLRE', 'XLU', 'XLV', 'XLY', 'XME' ]\n",
        "mod = pipeline.RateReturnOnly(pipeline.FeatureSeq([pipeline.AddDayMonth(), pipeline.AddVWap()]))\n",
        "df1 = pipeline.runModelCombined(tickers1, 'etf2b', mod, True)"
      ]
    },
    {
      "cell_type": "code",
      "execution_count": null,
      "metadata": {
        "id": "X0wy3LeuIMg7"
      },
      "outputs": [],
      "source": [
        "df1.sort_values('Gain', ascending=False)"
      ]
    },
    {
      "cell_type": "code",
      "execution_count": null,
      "metadata": {
        "id": "o8wpIWG5xMt0"
      },
      "outputs": [],
      "source": [
        "findata.EPOCHS=200\n",
        "tickers3 = [\n",
        "           'AHT', 'AMSC', 'ASTR', 'ATOM',\n",
        "           'BKKT', 'BGFV', 'BGSF', 'CBNT', 'CLOV',\n",
        "           'DNMR', 'ERJ', 'EVGO',\n",
        "           'FSLY',  'FTCH', 'GOGO', 'HIVE',\n",
        "           'ILAL', 'INLX', 'JMIA', 'JOBY',  'KULR', 'MTTR',\n",
        "           'MYTE', 'NEPH', 'ONDS', 'MQ',\n",
        "           'PETS', 'PTON', 'SFIX', 'SFT', 'STNE',\n",
        "           'ULH', 'VRAR', 'WISH']\n",
        "lossfn = \"huber_loss\"\n",
        "# lossfn = \"mean_squared_error\"\n",
        "mod = pipeline.RateReturnOnly(\n",
        "    pipeline.FeatureSeq([pipeline.AddDayMonth(), pipeline.AddVWap(), pipeline.AddMA(200)]))\n",
        "df3, results = pipeline.runModelCombined(tickers3, 'vols', mod, False, loss=lossfn)"
      ]
    },
    {
      "cell_type": "code",
      "execution_count": null,
      "metadata": {
        "id": "ocQUbPFexMt0"
      },
      "outputs": [],
      "source": [
        "df3"
      ]
    },
    {
      "cell_type": "code",
      "execution_count": null,
      "metadata": {
        "id": "9qUk7m7OxMt0"
      },
      "outputs": [],
      "source": [
        "import pandas as pd\n",
        "seq = list()\n",
        "for ticker, result in results.items():\n",
        "    tempdf = result.final_df\n",
        "    tempdf['predicted_rate'] = (tempdf['adjclose_15']-tempdf['adjclose'])/tempdf['adjclose']\n",
        "    tempdf['true_rate'] = (tempdf['true_adjclose_15']-tempdf['adjclose'])/tempdf['adjclose']\n",
        "    seq.append(tempdf[['ticker', 'date', \"predicted_rate\", 'true_rate']])\n",
        "\n",
        "detailstat = pd.concat(seq)\n",
        "\n"
      ]
    },
    {
      "cell_type": "code",
      "execution_count": null,
      "metadata": {
        "id": "8A-m6zpNxMt0"
      },
      "outputs": [],
      "source": [
        "normalstat = detailstat[detailstat['predicted_rate'].between(-2,2) & detailstat['true_rate'].between(-2,2)]\n",
        "largestat = normalstat[~ normalstat['predicted_rate'].between(-0.25,0.25) & ~ normalstat['true_rate'].between(-0.25,0.25)]\n",
        "largestat.sample(10)"
      ]
    },
    {
      "cell_type": "code",
      "execution_count": null,
      "metadata": {
        "id": "tJuZYVgpxMt1"
      },
      "outputs": [],
      "source": [
        "ax = largestat.plot.scatter(x='predicted_rate', y='true_rate',c='DarkBlue', figsize=(10,10))\n",
        "# ax.set_yscale('log')\n",
        "# ax.set_xscale('log')"
      ]
    },
    {
      "cell_type": "code",
      "execution_count": null,
      "metadata": {
        "id": "eFvLtoUFxMt1"
      },
      "outputs": [],
      "source": [
        "# import matplotlib.pyplot as plt\n",
        "\n",
        "# plt.hist([normalstat['predicted_rate'],normalstat['predicted_rate']],\n",
        "#          bins=100, range=(-1,1), color = ['r','g'])\n",
        "\n",
        "corr = largestat[[\"predicted_rate\", \"true_rate\"]].corr()\n",
        "\n",
        "corr.style.background_gradient(cmap='coolwarm')"
      ]
    },
    {
      "cell_type": "code",
      "execution_count": null,
      "metadata": {
        "id": "OF4rNi6rxMt1"
      },
      "outputs": [],
      "source": [
        "\n",
        "sns.regplot(x=largestat[\"predicted_rate\"], y=largestat[\"true_rate\"])\n"
      ]
    },
    {
      "cell_type": "code",
      "execution_count": null,
      "metadata": {
        "id": "e7V3jPQVxMt1"
      },
      "outputs": [],
      "source": [
        "sns.heatmap(normalstat[[\"predicted_rate\", \"true_rate\"]].corr(), annot = True, fmt='.2g',cmap= 'coolwarm')"
      ]
    },
    {
      "cell_type": "code",
      "execution_count": null,
      "metadata": {
        "id": "lawcUcT2xMt1",
        "outputId": "44a34634-434f-47b9-f3d5-2c1515d18b18",
        "colab": {
          "base_uri": "https://localhost:8080/"
        }
      },
      "outputs": [
        {
          "output_type": "stream",
          "name": "stdout",
          "text": [
            "sending incremental file list\n",
            "gstock-12b-test-adjclose-sh-1-sc-1-sbd-0-seq-50-step-15-wRROnly-wdm-wvwap-wma-adjclose-200-wadj-model-huber_loss-adam-LSTM-layers-2-units-256.h5\n",
            "gstock-12b-test-high-sh-1-sc-1-sbd-0-seq-50-step-15-wRROnly-wdm-wvwap-wma-adjclose-200-wadj-model-huber_loss-adam-LSTM-layers-2-units-256.h5\n",
            "gstock-12b-test-low-sh-1-sc-1-sbd-0-seq-50-step-15-wRROnly-wdm-wvwap-wma-adjclose-200-wadj-model-huber_loss-adam-LSTM-layers-2-units-256.h5\n",
            "\n",
            "sent 9,647,469 bytes  received 73 bytes  19,295,084.00 bytes/sec\n",
            "total size is 176,683,760  speedup is 18.31\n"
          ]
        }
      ],
      "source": [
        "!rsync -av --ignore-existing results/* /content/drive/MyDrive/colab/results/\n"
      ]
    }
  ],
  "metadata": {
    "accelerator": "GPU",
    "colab": {
      "name": "TestLocal.ipynb",
      "provenance": [],
      "gpuType": "V100"
    },
    "kernelspec": {
      "display_name": "Python 3",
      "name": "python3"
    },
    "language_info": {
      "codemirror_mode": {
        "name": "ipython",
        "version": 3
      },
      "file_extension": ".py",
      "mimetype": "text/x-python",
      "name": "python",
      "nbconvert_exporter": "python",
      "pygments_lexer": "ipython3",
      "version": "3.10.9"
    }
  },
  "nbformat": 4,
  "nbformat_minor": 0
}