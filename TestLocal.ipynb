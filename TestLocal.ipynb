{
  "cells": [
    {
      "cell_type": "code",
      "execution_count": 24,
      "metadata": {
        "id": "iRWFgIbnzajB",
        "scrolled": true
      },
      "outputs": [],
      "source": [
        "pip install -q yahoo_fin"
      ]
    },
    {
      "cell_type": "code",
      "execution_count": null,
      "metadata": {
        "id": "5-bcZhdWxMtx"
      },
      "outputs": [],
      "source": [
        "pip install seaborn"
      ]
    },
    {
      "cell_type": "code",
      "execution_count": null,
      "metadata": {
        "id": "8zmGhmDpxMtx"
      },
      "outputs": [],
      "source": [
        "import seaborn as sns"
      ]
    },
    {
      "cell_type": "code",
      "execution_count": 49,
      "metadata": {
        "id": "0MuPGKaH3W59"
      },
      "outputs": [],
      "source": [
        "!mkdir -p data results logs\n"
      ]
    },
    {
      "cell_type": "code",
      "source": [
        "! cp ~/Google\\ Drive/My\\ Drive/colab/results/* ./results/"
      ],
      "metadata": {
        "id": "74aXCtye0_Ty"
      },
      "execution_count": null,
      "outputs": []
    },
    {
      "cell_type": "markdown",
      "metadata": {
        "id": "l4AuykWZdTyh"
      },
      "source": [
        "Todos:\n",
        "\n",
        " \n",
        "\n",
        "1.   Load previously saved model before training\n",
        "2.   Allow eval only without test/train spliting\n",
        "3.   Incremental data load\n",
        "4.    Add S&P, QQQ etc to the model\n",
        "5. Save model to google drive\n",
        "\n",
        "\n",
        "\n",
        "\n"
      ]
    },
    {
      "cell_type": "markdown",
      "source": [
        "Run following in local Jupyter"
      ],
      "metadata": {
        "id": "32PM9X_JRFbK"
      }
    },
    {
      "cell_type": "code",
      "execution_count": null,
      "metadata": {
        "id": "fqx81EuXwsnI"
      },
      "outputs": [],
      "source": [
        "from runml import pipeline,findata"
      ]
    },
    {
      "cell_type": "markdown",
      "source": [
        "Run following 2 cells for colab to import libraries"
      ],
      "metadata": {
        "id": "ESjiEs5XRLK2"
      }
    },
    {
      "cell_type": "code",
      "source": [
        "!git clone https://github.com/ahsank/runml"
      ],
      "metadata": {
        "id": "2nveD-MH1LMt"
      },
      "execution_count": null,
      "outputs": []
    },
    {
      "cell_type": "code",
      "source": [
        "import importlib\n",
        "import sys\n",
        "path = 'runml/runml'\n",
        "if not path in sys.path:\n",
        "  sys.path.append(path)\n",
        "\n",
        "findata = importlib.import_module('findata')\n",
        "pipeline = importlib.import_module('pipeline')\n"
      ],
      "metadata": {
        "id": "4oFRGi7vxYym"
      },
      "execution_count": 42,
      "outputs": []
    },
    {
      "cell_type": "markdown",
      "source": [
        "Run following if the library code is modified locally"
      ],
      "metadata": {
        "id": "XK-XpE7cRXCB"
      }
    },
    {
      "cell_type": "code",
      "execution_count": 43,
      "metadata": {
        "id": "ADNm6CsPxMty",
        "outputId": "098f00a7-5ad8-49d1-9c12-49f238d256fe",
        "colab": {
          "base_uri": "https://localhost:8080/"
        }
      },
      "outputs": [
        {
          "output_type": "execute_result",
          "data": {
            "text/plain": [
              "<module 'findata' from '/content/runml/runml/findata.py'>"
            ]
          },
          "metadata": {},
          "execution_count": 43
        }
      ],
      "source": [
        "from importlib import reload\n",
        "reload(pipeline)\n",
        "reload(findata)"
      ]
    },
    {
      "cell_type": "code",
      "execution_count": null,
      "metadata": {
        "id": "NRNq5x6mTG-q",
        "scrolled": true
      },
      "outputs": [],
      "source": [
        "findata.EPOCHS=10\n",
        "pipeline.IS_VERBOSE=False\n",
        "tickers = [\n",
        "           'ABNB', 'ACLS', 'AFRM', 'AHT','AI', 'AMBA', 'AMSC', 'APO', 'ASTR', 'ATOM',\n",
        "]\n",
        "# RateReturnOnlyExperimental\n",
        "#pipeline.PenaltyTrading.threshold=0.2\n",
        "mod = pipeline.RateReturnOnly(\n",
        "    pipeline.FeatureSeq([pipeline.AddDayMonth(), pipeline.AddVWap(), pipeline.AddMA(200)]))\n",
        "df, results = pipeline.runModelCombined(tickers, 'ipos2b', mod, True,\n",
        "                                        loss=\"mean_squared_error\")"
      ]
    },
    {
      "cell_type": "code",
      "execution_count": null,
      "metadata": {
        "id": "_lUUYXO9xMty"
      },
      "outputs": [],
      "source": [
        "data = pipeline.fetch_data('Z')\n",
        "data = data.tail(1000)\n",
        "data"
      ]
    },
    {
      "cell_type": "code",
      "execution_count": null,
      "metadata": {
        "id": "Sw99bVXNIEym"
      },
      "outputs": [],
      "source": [
        "display(df.sort_values('Gain', ascending=False))\n",
        "display(df[[\"Buy\", \"Sell\", \"Total\"]].sum()/len(df))\n"
      ]
    },
    {
      "cell_type": "code",
      "execution_count": null,
      "metadata": {
        "id": "g8YUKnIIxMtz"
      },
      "outputs": [],
      "source": [
        "results['ABNB'].pdata.__dict__.keys()"
      ]
    },
    {
      "cell_type": "code",
      "execution_count": null,
      "metadata": {
        "id": "8f5Ns68gHHpf"
      },
      "outputs": [],
      "source": [
        "findata.EPOCHS=10\n",
        "tickers1 = ['ARKK', 'ARKW', 'DAPP', 'DTEC', 'EEM', 'FPX',\n",
        "            'GBTC', 'GLD',\n",
        "            'ICLN', 'IJR', 'IPO', 'IPOS', 'IWM',\n",
        "            'JETS', 'KEMQ',\n",
        "            'MGK', 'MGV', 'MOAT', 'MTUM',\n",
        "            'QQQ', 'SLV','SMH', 'SMOG',\n",
        "            'SPY', 'VNQ', 'VT', 'VTI', 'WDIV',\n",
        "            'XLB', 'XLC', 'XLE', 'XLF', 'XLI', 'XLK',\n",
        "            'XLRE', 'XLU', 'XLV', 'XLY', 'XME' ]\n",
        "mod = pipeline.RateReturnOnly(pipeline.FeatureSeq([pipeline.AddDayMonth(), pipeline.AddVWap()]))\n",
        "df1 = pipeline.runModelCombined(tickers1, 'etf2b', mod, True)"
      ]
    },
    {
      "cell_type": "code",
      "execution_count": null,
      "metadata": {
        "id": "X0wy3LeuIMg7"
      },
      "outputs": [],
      "source": [
        "df1.sort_values('Gain', ascending=False)"
      ]
    },
    {
      "cell_type": "code",
      "execution_count": null,
      "metadata": {
        "id": "o8wpIWG5xMt0"
      },
      "outputs": [],
      "source": [
        "findata.EPOCHS=200\n",
        "tickers3 = [\n",
        "           'AHT', 'AMSC', 'ASTR', 'ATOM',\n",
        "           'BKKT', 'BGFV', 'BGSF', 'CBNT', 'CLOV', \n",
        "           'DNMR', 'ERJ', 'EVGO',\n",
        "           'FSLY',  'FTCH', 'GOGO', 'HIVE', \n",
        "           'ILAL', 'INLX', 'JMIA', 'JOBY',  'KULR', 'MTTR',\n",
        "           'MYTE', 'NEPH', 'ONDS', 'MQ',\n",
        "           'PETS', 'PTON', 'SFIX', 'SFT', 'STNE', \n",
        "           'ULH', 'VRAR', 'WISH']\n",
        "lossfn = \"huber_loss\"\n",
        "# lossfn = \"mean_squared_error\"\n",
        "mod = pipeline.RateReturnOnly(\n",
        "    pipeline.FeatureSeq([pipeline.AddDayMonth(), pipeline.AddVWap(), pipeline.AddMA(200)]))\n",
        "df3, results = pipeline.runModelCombined(tickers3, 'vols', mod, False, loss=lossfn)"
      ]
    },
    {
      "cell_type": "code",
      "execution_count": null,
      "metadata": {
        "id": "ocQUbPFexMt0"
      },
      "outputs": [],
      "source": [
        "df3"
      ]
    },
    {
      "cell_type": "code",
      "execution_count": null,
      "metadata": {
        "id": "9qUk7m7OxMt0"
      },
      "outputs": [],
      "source": [
        "import pandas as pd\n",
        "seq = list()\n",
        "for ticker, result in results.items():\n",
        "    tempdf = result.final_df\n",
        "    tempdf['predicted_rate'] = (tempdf['adjclose_15']-tempdf['adjclose'])/tempdf['adjclose']\n",
        "    tempdf['true_rate'] = (tempdf['true_adjclose_15']-tempdf['adjclose'])/tempdf['adjclose']\n",
        "    seq.append(tempdf[['ticker', 'date', \"predicted_rate\", 'true_rate']])\n",
        "\n",
        "detailstat = pd.concat(seq)\n",
        "\n"
      ]
    },
    {
      "cell_type": "code",
      "execution_count": null,
      "metadata": {
        "id": "8A-m6zpNxMt0"
      },
      "outputs": [],
      "source": [
        "normalstat = detailstat[detailstat['predicted_rate'].between(-2,2) & detailstat['true_rate'].between(-2,2)]\n",
        "largestat = normalstat[~ normalstat['predicted_rate'].between(-0.25,0.25) & ~ normalstat['true_rate'].between(-0.25,0.25)]\n",
        "largestat.sample(10)"
      ]
    },
    {
      "cell_type": "code",
      "execution_count": null,
      "metadata": {
        "id": "tJuZYVgpxMt1"
      },
      "outputs": [],
      "source": [
        "ax = largestat.plot.scatter(x='predicted_rate', y='true_rate',c='DarkBlue', figsize=(10,10))\n",
        "# ax.set_yscale('log')\n",
        "# ax.set_xscale('log')"
      ]
    },
    {
      "cell_type": "code",
      "execution_count": null,
      "metadata": {
        "id": "eFvLtoUFxMt1"
      },
      "outputs": [],
      "source": [
        "# import matplotlib.pyplot as plt\n",
        "\n",
        "# plt.hist([normalstat['predicted_rate'],normalstat['predicted_rate']],\n",
        "#          bins=100, range=(-1,1), color = ['r','g'])\n",
        "\n",
        "corr = largestat[[\"predicted_rate\", \"true_rate\"]].corr()\n",
        "\n",
        "corr.style.background_gradient(cmap='coolwarm')"
      ]
    },
    {
      "cell_type": "code",
      "execution_count": null,
      "metadata": {
        "id": "OF4rNi6rxMt1"
      },
      "outputs": [],
      "source": [
        "\n",
        "sns.regplot(x=largestat[\"predicted_rate\"], y=largestat[\"true_rate\"])\n"
      ]
    },
    {
      "cell_type": "code",
      "execution_count": null,
      "metadata": {
        "id": "e7V3jPQVxMt1"
      },
      "outputs": [],
      "source": [
        "sns.heatmap(normalstat[[\"predicted_rate\", \"true_rate\"]].corr(), annot = True, fmt='.2g',cmap= 'coolwarm')"
      ]
    },
    {
      "cell_type": "code",
      "execution_count": null,
      "metadata": {
        "id": "lawcUcT2xMt1"
      },
      "outputs": [],
      "source": []
    }
  ],
  "metadata": {
    "accelerator": "GPU",
    "colab": {
      "name": "StockML.ipynb",
      "provenance": []
    },
    "kernelspec": {
      "display_name": "Python 3 (ipykernel)",
      "language": "python",
      "name": "python3"
    },
    "language_info": {
      "codemirror_mode": {
        "name": "ipython",
        "version": 3
      },
      "file_extension": ".py",
      "mimetype": "text/x-python",
      "name": "python",
      "nbconvert_exporter": "python",
      "pygments_lexer": "ipython3",
      "version": "3.9.7"
    }
  },
  "nbformat": 4,
  "nbformat_minor": 0
}