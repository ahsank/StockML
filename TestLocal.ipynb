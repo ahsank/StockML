{
  "cells": [
    {
      "cell_type": "code",
      "execution_count": null,
      "metadata": {
        "id": "iRWFgIbnzajB",
        "scrolled": true
      },
      "outputs": [],
      "source": [
        "pip install -q yahoo_fin"
      ]
    },
    {
      "cell_type": "code",
      "execution_count": null,
      "metadata": {
        "id": "5-bcZhdWxMtx"
      },
      "outputs": [],
      "source": [
        "pip install seaborn"
      ]
    },
    {
      "cell_type": "code",
      "execution_count": null,
      "metadata": {
        "id": "8zmGhmDpxMtx"
      },
      "outputs": [],
      "source": [
        "import seaborn as sns"
      ]
    },
    {
      "cell_type": "code",
      "execution_count": 2,
      "metadata": {
        "id": "0MuPGKaH3W59"
      },
      "outputs": [],
      "source": [
        "!mkdir -p data results logs\n"
      ]
    },
    {
      "cell_type": "code",
      "execution_count": 3,
      "metadata": {
        "colab": {
          "base_uri": "https://localhost:8080/"
        },
        "id": "mfX08b_RbeEb",
        "outputId": "cf02cf85-fc99-4871-bf25-b0688f6a9fad"
      },
      "outputs": [
        {
          "output_type": "stream",
          "name": "stdout",
          "text": [
            "Mounted at /content/drive\n"
          ]
        }
      ],
      "source": [
        "from google.colab import drive\n",
        "drive.mount('/content/drive')\n",
        "!cp  /content/drive/MyDrive/colab/results/* ./results/"
      ]
    },
    {
      "cell_type": "code",
      "source": [
        "pip install  git+https://github.com/ahsank/runml@testv2.01#egg=runml"
      ],
      "metadata": {
        "id": "vhagIOgmjfpP"
      },
      "execution_count": null,
      "outputs": []
    },
    {
      "cell_type": "code",
      "source": [
        "import runml.pipeline\n",
        "from runml import pipeline,findata\n"
      ],
      "metadata": {
        "id": "WlhPZ1rikTVj"
      },
      "execution_count": 5,
      "outputs": []
    },
    {
      "cell_type": "code",
      "execution_count": null,
      "metadata": {
        "id": "74aXCtye0_Ty"
      },
      "outputs": [],
      "source": [
        "import sys\n",
        "IN_COLAB = 'google.colab' in sys.modules\n",
        "if IN_COLAB:\n",
        "  !cp  /content/drive/MyDrive/colab/results/* ./results/\n",
        "else:\n",
        "  ! cp ~/Google\\ Drive/My\\ Drive/colab/results/* ./results/"
      ]
    },
    {
      "cell_type": "markdown",
      "metadata": {
        "id": "l4AuykWZdTyh"
      },
      "source": [
        "Todos:\n",
        "\n",
        "\n",
        "\n",
        "1.   Load previously saved model before training\n",
        "2.   Allow eval only without test/train spliting\n",
        "3.   Incremental data load\n",
        "4.    Add S&P, QQQ etc to the model\n",
        "5. Save model to google drive\n",
        "\n",
        "\n",
        "\n",
        "\n"
      ]
    },
    {
      "cell_type": "markdown",
      "metadata": {
        "id": "32PM9X_JRFbK"
      },
      "source": [
        "Run following in local Jupyter"
      ]
    },
    {
      "cell_type": "code",
      "execution_count": null,
      "metadata": {
        "id": "fqx81EuXwsnI",
        "outputId": "22237b2a-ca44-4798-9d16-eff76b356124"
      },
      "outputs": [
        {
          "name": "stdout",
          "output_type": "stream",
          "text": [
            "/Users/ahsank/src/runml\n"
          ]
        }
      ],
      "source": [
        "import os\n",
        "import sys\n",
        "path = os.path.expanduser('~/src/runml')\n",
        "print(path)\n",
        "if not path in sys.path:\n",
        "  sys.path.append(path)\n",
        "\n",
        "from runml import pipeline,findata"
      ]
    },
    {
      "cell_type": "markdown",
      "metadata": {
        "id": "ESjiEs5XRLK2"
      },
      "source": [
        "Run following 2 cells for colab to import libraries"
      ]
    },
    {
      "cell_type": "code",
      "execution_count": null,
      "metadata": {
        "id": "2nveD-MH1LMt"
      },
      "outputs": [],
      "source": [
        "!git clone https://github.com/ahsank/runml"
      ]
    },
    {
      "cell_type": "code",
      "execution_count": null,
      "metadata": {
        "id": "4oFRGi7vxYym"
      },
      "outputs": [],
      "source": [
        "import importlib\n",
        "import sys\n",
        "path = 'runml'\n",
        "if not path in sys.path:\n",
        "  sys.path.append(path)\n",
        "\n",
        "from runml import pipeline,findata\n"
      ]
    },
    {
      "cell_type": "markdown",
      "metadata": {
        "id": "XK-XpE7cRXCB"
      },
      "source": [
        "Run following if the library code is modified locally"
      ]
    },
    {
      "cell_type": "code",
      "execution_count": null,
      "metadata": {
        "colab": {
          "base_uri": "https://localhost:8080/"
        },
        "id": "ADNm6CsPxMty",
        "outputId": "3ef1617c-1b11-42fe-bce5-60a94211c379"
      },
      "outputs": [
        {
          "data": {
            "text/plain": [
              "<module 'runml.pipeline' from '/Users/ahsank/src/runml/runml/pipeline.py'>"
            ]
          },
          "execution_count": 131,
          "metadata": {},
          "output_type": "execute_result"
        }
      ],
      "source": [
        "from importlib import reload\n",
        "reload(findata)\n",
        "reload(pipeline)"
      ]
    },
    {
      "cell_type": "code",
      "execution_count": null,
      "metadata": {
        "id": "kcdzATEECevL"
      },
      "outputs": [],
      "source": [
        "import numpy as np\n",
        "# profit factor 2 = 50% of predicted gain due to early profit taking\n",
        "def addAlloc(df, stop_loss, profit_factor=2):\n",
        "  df['Alloc'] = df['Accu']/stop_loss - (1-df['Accu'])*profit_factor/abs(df['Gain'])\n",
        "  df['Alloc'] = np.where(df['Alloc'] < 0, 0, df['Alloc'])\n",
        "  return df"
      ]
    },
    {
      "cell_type": "code",
      "source": [
        "import numpy as np\n",
        "# profit factor 2 = 50% of predicted gain due to early profit taking\n",
        "def addAllocHL(df, stop_loss, profit_factor=1):\n",
        "    #df['Gain_f'] = (2*df['Gain']+df['Gain_l']+df['Gain_h'])/4\n",
        "    df['Gain_f'] = df[['Gain','Gain_l']].max(axis=1)\n",
        "    df['Gain_f'] = df[['Gain_h', 'Gain_f']].min(axis=1)\n",
        "    df['Alloc'] = df['Accu']/stop_loss - (1-df['Accu'])*profit_factor/abs(df['Gain_f'])\n",
        "    df['Alloc'] = np.where(df['Alloc'] < 0, 0, df['Alloc'])\n",
        "    return df"
      ],
      "metadata": {
        "id": "T6BnXtIuCz34"
      },
      "execution_count": 6,
      "outputs": []
    },
    {
      "cell_type": "code",
      "execution_count": null,
      "metadata": {
        "id": "NRNq5x6mTG-q",
        "scrolled": false
      },
      "outputs": [],
      "source": [
        "findata.EPOCHS=200\n",
        "pipeline.IS_VERBOSE = False\n",
        "model = \"gstock-6b-test\"\n",
        "tickers = ['ABB', 'AEXAF', 'ALSMY', 'AMSSY', 'ASML', 'ADDDF', 'ADYEY',\n",
        "            'BAK', 'BASFY', 'BESIY', 'COTY', 'COVTY', 'CDMGF', 'CPG', 'CX',\n",
        "            'DBOEY', 'DPSGY',\n",
        "            'EADSF', 'EIFZF', 'EDNMF', 'ENGGY', 'EQNR', 'ERIC', 'ERJ','ESEA',\n",
        "            'FANUY', 'FQVLF', 'GLOB', 'HCMLY', 'HDELY',\n",
        "            'HENKY', 'HYMTF', 'HMC', 'KNNGF', 'MELI', 'MGA',\n",
        "            'OZON', 'RACE', 'LYB', 'LVMUY',\n",
        "            'MYTE', 'NHYDY', 'NOK', 'NU', 'NXPI', 'ONON', 'OTGLY', 'PAX', 'POAHF', 'PROSF',\n",
        "            'RNMBF', 'RYCEF', 'SAFRF', 'SFTBY',\n",
        "            'ORAN', 'SAP', 'SE', 'SIEGY', 'STLA',\n",
        "            'TEF', 'TELNF', 'THQQF', 'TKAMY', 'TRYIY', 'TSM',\n",
        "            'VALE', 'VNT', 'VWAPY', 'YARIY', 'ZURVY']\n"
      ]
    },
    {
      "cell_type": "code",
      "source": [
        "findata.EPOCHS=200\n",
        "model = \"val-6b-test\"\n",
        "tickers = ['AAL', 'ALB', 'APO', 'AQN', 'ARCH', 'ARE',\n",
        "            'BAH', 'BAX', 'BGFV', 'BXC',\n",
        "            'CBT', 'CC', 'CCJ', 'CF', 'CHK', 'CI', 'CIVI',\n",
        "            'CG',  'CMI', 'COKE', 'COP', 'CSL',\n",
        "            'DAL', 'DD', 'DVN', 'EMN',\n",
        "            'F', 'FCX', 'FIS', 'FLO', 'FMS', 'GLW', 'GWW',\n",
        "            'HSII', 'HPE', 'IP', 'IPI', 'IVZ', 'JWN', 'KD', 'KHC', 'KMB',\n",
        "             'M', 'MMM', 'NFG', 'NTR', 'OMC', 'OLN', 'OSK',\n",
        "            'PARA', 'PCAR', 'PETS', 'PNR', 'PSTL', 'PXD', 'RCL', 'RH',\n",
        "            'SAFE', 'SCCO', 'SPTN', 'SPG', 'SWK',\n",
        "            'T', 'TCN', 'TGT', 'TDG', 'TWI', 'UAL', 'UBA', 'URI',\n",
        "            'VRTX', 'VZ', 'WDC', 'WHR', 'WSM', 'XOM', 'YORW']"
      ],
      "metadata": {
        "id": "wErxNbA2mLkW"
      },
      "execution_count": null,
      "outputs": []
    },
    {
      "cell_type": "markdown",
      "source": [],
      "metadata": {
        "id": "8XRGqEEXIYLF"
      }
    },
    {
      "cell_type": "code",
      "source": [
        "findata.EPOCHS=200\n",
        "model = \"cry-6b-test\"\n",
        "tickers = [ 'ADA-USD', 'BTC-USD', 'DOT-USD', 'DOGE-USD',\n",
        "            'ETH-USD', 'LTC-USD', 'MATIC-USD', 'XRP-USD']"
      ],
      "metadata": {
        "id": "7L5UYIQl4oRD"
      },
      "execution_count": 10,
      "outputs": []
    },
    {
      "cell_type": "code",
      "source": [
        "findata.EPOCHS=200\n",
        "model = \"etf-5a1-test\"\n",
        "tickers = ['ARKF', 'ARKK', 'ARKW', 'DAPP', 'DIA', 'DTEC', 'EEM', 'FPX',\n",
        "            'ICLN', 'IJR', 'IPO', 'IXC', 'IXN', 'IXP', 'IWM', 'IYZ',\n",
        "            'JETS', 'MGK', 'MGV', 'MTUM',\n",
        "            'ONLN', 'QQQ', 'SMOG', 'SPY', 'TDIV',\n",
        "            'VNQ', 'VT', 'VTI', 'WDIV', 'XITK',\n",
        "            'XLB', 'XLC', 'XLE', 'XLF', 'XLI', 'XLK', 'XLP',\n",
        "            'XLRE', 'XLU', 'XLV', 'XLY', 'XME', 'XNTK', 'XSW' ]"
      ],
      "metadata": {
        "id": "9grkIdXOU1C8"
      },
      "execution_count": null,
      "outputs": []
    },
    {
      "cell_type": "code",
      "source": [
        "findata.EPOCHS=200\n",
        "model = \"mcap-5a-test\"\n",
        "tickers = ['AAPL', 'ACN', 'ADBE', 'AMD', 'AMZN', 'AVGO', 'BA', 'BKNG', 'BRK-B',\n",
        "            'CAT', 'CDNS', 'CRM', 'COST', 'CSCO', 'DE', 'DHR', 'DIS',\n",
        "            'GOOGL', 'FDX', 'HD', 'INTC', 'IBM', 'ISRG',\n",
        "            'META', 'MMC', 'MSFT', 'NKE', 'NVDA', 'NOW',\n",
        "            'ORCL', 'PYPL', 'QCOM', 'SBUX', 'TMO', 'TSLA', 'TXN', 'UNH', 'UPS']"
      ],
      "metadata": {
        "id": "o1CVtzZgpMqu"
      },
      "execution_count": null,
      "outputs": []
    },
    {
      "cell_type": "code",
      "source": [
        "lossfn = \"huber_loss\"\n",
        "mod = pipeline.RateReturnOnly(\n",
        "    pipeline.FeatureSeq([pipeline.AddDayMonth(),\n",
        "                         pipeline.AddVWap(),\n",
        "                         pipeline.AddMA(200),\n",
        "                         pipeline.Adj()\n",
        "                         ]))\n",
        "\n",
        "\n",
        "#df  = pipeline.runModelCombined(tickers, 'ipos2-3a', mod, False, loss=lossfn, output='low', trading=pipeline.LowTrading)[0]\n",
        "#df  = pipeline.runModelCombined(tickers, 'ipos2-3a', mod, False, loss=lossfn, output='high', trading=pipeline.HighTrading)[0]\n",
        "df  = pipeline.runModelCombinedVola(tickers, model, mod, True, loss=lossfn)\n"
      ],
      "metadata": {
        "id": "L8f-qv5OCpmp"
      },
      "execution_count": null,
      "outputs": []
    },
    {
      "cell_type": "code",
      "source": [
        "addAllocHL(df, 0.10, 1)\n",
        "df.iloc[(df.Alloc * abs(df.Gain_f)).sort_values(ascending=False).index].head(50)\n",
        "#df.sort_values('Alloc', ascending=False).head(50)\n"
      ],
      "metadata": {
        "id": "M63nPlYyle9K",
        "outputId": "dedceb04-89f2-4c94-a3d0-2ffe10637038",
        "colab": {
          "base_uri": "https://localhost:8080/",
          "height": 297
        }
      },
      "execution_count": 12,
      "outputs": [
        {
          "output_type": "execute_result",
          "data": {
            "text/plain": [
              "      Ticker     Error  Accu        Buy       Sell      Last          Pred  \\\n",
              "5    LTC-USD     51.20  0.84    1737.03    2172.37    107.03     86.389999   \n",
              "6  MATIC-USD      0.09  0.89      15.09      17.68      0.67      1.040000   \n",
              "1    BTC-USD  12300.27  0.85  418234.03  317187.32  30507.77  34504.480469   \n",
              "4    ETH-USD    474.99  0.84   25855.77   22121.88   1939.54   2273.580078   \n",
              "3   DOGE-USD      0.02  0.77       2.00       2.42      0.07      0.060000   \n",
              "2    DOT-USD      5.01  0.76     291.97     245.75      5.17      5.540000   \n",
              "0    ADA-USD      0.16  0.76      10.02      10.31      0.29      0.280000   \n",
              "7    XRP-USD      0.26  0.76       7.88       8.66      0.47      0.460000   \n",
              "\n",
              "   Gain  Accu_h      Buy_h     Sell_h        Pred_h  Gain_h  Accu_l  \\\n",
              "5 -0.19    0.66    2098.50    2528.06    112.980003    0.06    0.72   \n",
              "6  0.56    0.73      14.51      14.39      0.740000    0.12    0.72   \n",
              "1  0.13    0.71  219713.11  285583.67  34886.179688    0.14    0.64   \n",
              "4  0.17    0.70   13171.55   17622.14   2155.989990    0.11    0.72   \n",
              "3 -0.07    0.54       2.41       1.62      0.070000    0.10    0.68   \n",
              "2  0.07    0.64     178.68     128.77      5.510000    0.07    0.71   \n",
              "0 -0.04    0.64      13.24      10.79      0.320000    0.10    0.81   \n",
              "7 -0.04    0.59       3.20       6.31      0.500000    0.06    0.66   \n",
              "\n",
              "       Buy_l     Sell_l        Pred_l  Gain_l  Gain_f     Alloc  \n",
              "5    1486.47    1767.38     86.790001   -0.19   -0.19  7.557895  \n",
              "6      17.43      21.68      0.570000   -0.15    0.12  7.983333  \n",
              "1  268015.39  210791.45  28580.130859   -0.06    0.13  7.346154  \n",
              "4   24995.26   23219.35   1718.150024   -0.11    0.11  6.945455  \n",
              "3       1.82       0.47      0.060000   -0.14   -0.07  4.414286  \n",
              "2     320.46     268.04      4.600000   -0.11    0.07  4.171429  \n",
              "0      15.14      14.49      0.230000   -0.20   -0.04  1.600000  \n",
              "7       5.71       7.63      0.420000   -0.11   -0.04  1.600000  "
            ],
            "text/html": [
              "\n",
              "  <div id=\"df-421b80bf-6c3f-4fbb-ae0e-eb04bb917819\">\n",
              "    <div class=\"colab-df-container\">\n",
              "      <div>\n",
              "<style scoped>\n",
              "    .dataframe tbody tr th:only-of-type {\n",
              "        vertical-align: middle;\n",
              "    }\n",
              "\n",
              "    .dataframe tbody tr th {\n",
              "        vertical-align: top;\n",
              "    }\n",
              "\n",
              "    .dataframe thead th {\n",
              "        text-align: right;\n",
              "    }\n",
              "</style>\n",
              "<table border=\"1\" class=\"dataframe\">\n",
              "  <thead>\n",
              "    <tr style=\"text-align: right;\">\n",
              "      <th></th>\n",
              "      <th>Ticker</th>\n",
              "      <th>Error</th>\n",
              "      <th>Accu</th>\n",
              "      <th>Buy</th>\n",
              "      <th>Sell</th>\n",
              "      <th>Last</th>\n",
              "      <th>Pred</th>\n",
              "      <th>Gain</th>\n",
              "      <th>Accu_h</th>\n",
              "      <th>Buy_h</th>\n",
              "      <th>Sell_h</th>\n",
              "      <th>Pred_h</th>\n",
              "      <th>Gain_h</th>\n",
              "      <th>Accu_l</th>\n",
              "      <th>Buy_l</th>\n",
              "      <th>Sell_l</th>\n",
              "      <th>Pred_l</th>\n",
              "      <th>Gain_l</th>\n",
              "      <th>Gain_f</th>\n",
              "      <th>Alloc</th>\n",
              "    </tr>\n",
              "  </thead>\n",
              "  <tbody>\n",
              "    <tr>\n",
              "      <th>5</th>\n",
              "      <td>LTC-USD</td>\n",
              "      <td>51.20</td>\n",
              "      <td>0.84</td>\n",
              "      <td>1737.03</td>\n",
              "      <td>2172.37</td>\n",
              "      <td>107.03</td>\n",
              "      <td>86.389999</td>\n",
              "      <td>-0.19</td>\n",
              "      <td>0.66</td>\n",
              "      <td>2098.50</td>\n",
              "      <td>2528.06</td>\n",
              "      <td>112.980003</td>\n",
              "      <td>0.06</td>\n",
              "      <td>0.72</td>\n",
              "      <td>1486.47</td>\n",
              "      <td>1767.38</td>\n",
              "      <td>86.790001</td>\n",
              "      <td>-0.19</td>\n",
              "      <td>-0.19</td>\n",
              "      <td>7.557895</td>\n",
              "    </tr>\n",
              "    <tr>\n",
              "      <th>6</th>\n",
              "      <td>MATIC-USD</td>\n",
              "      <td>0.09</td>\n",
              "      <td>0.89</td>\n",
              "      <td>15.09</td>\n",
              "      <td>17.68</td>\n",
              "      <td>0.67</td>\n",
              "      <td>1.040000</td>\n",
              "      <td>0.56</td>\n",
              "      <td>0.73</td>\n",
              "      <td>14.51</td>\n",
              "      <td>14.39</td>\n",
              "      <td>0.740000</td>\n",
              "      <td>0.12</td>\n",
              "      <td>0.72</td>\n",
              "      <td>17.43</td>\n",
              "      <td>21.68</td>\n",
              "      <td>0.570000</td>\n",
              "      <td>-0.15</td>\n",
              "      <td>0.12</td>\n",
              "      <td>7.983333</td>\n",
              "    </tr>\n",
              "    <tr>\n",
              "      <th>1</th>\n",
              "      <td>BTC-USD</td>\n",
              "      <td>12300.27</td>\n",
              "      <td>0.85</td>\n",
              "      <td>418234.03</td>\n",
              "      <td>317187.32</td>\n",
              "      <td>30507.77</td>\n",
              "      <td>34504.480469</td>\n",
              "      <td>0.13</td>\n",
              "      <td>0.71</td>\n",
              "      <td>219713.11</td>\n",
              "      <td>285583.67</td>\n",
              "      <td>34886.179688</td>\n",
              "      <td>0.14</td>\n",
              "      <td>0.64</td>\n",
              "      <td>268015.39</td>\n",
              "      <td>210791.45</td>\n",
              "      <td>28580.130859</td>\n",
              "      <td>-0.06</td>\n",
              "      <td>0.13</td>\n",
              "      <td>7.346154</td>\n",
              "    </tr>\n",
              "    <tr>\n",
              "      <th>4</th>\n",
              "      <td>ETH-USD</td>\n",
              "      <td>474.99</td>\n",
              "      <td>0.84</td>\n",
              "      <td>25855.77</td>\n",
              "      <td>22121.88</td>\n",
              "      <td>1939.54</td>\n",
              "      <td>2273.580078</td>\n",
              "      <td>0.17</td>\n",
              "      <td>0.70</td>\n",
              "      <td>13171.55</td>\n",
              "      <td>17622.14</td>\n",
              "      <td>2155.989990</td>\n",
              "      <td>0.11</td>\n",
              "      <td>0.72</td>\n",
              "      <td>24995.26</td>\n",
              "      <td>23219.35</td>\n",
              "      <td>1718.150024</td>\n",
              "      <td>-0.11</td>\n",
              "      <td>0.11</td>\n",
              "      <td>6.945455</td>\n",
              "    </tr>\n",
              "    <tr>\n",
              "      <th>3</th>\n",
              "      <td>DOGE-USD</td>\n",
              "      <td>0.02</td>\n",
              "      <td>0.77</td>\n",
              "      <td>2.00</td>\n",
              "      <td>2.42</td>\n",
              "      <td>0.07</td>\n",
              "      <td>0.060000</td>\n",
              "      <td>-0.07</td>\n",
              "      <td>0.54</td>\n",
              "      <td>2.41</td>\n",
              "      <td>1.62</td>\n",
              "      <td>0.070000</td>\n",
              "      <td>0.10</td>\n",
              "      <td>0.68</td>\n",
              "      <td>1.82</td>\n",
              "      <td>0.47</td>\n",
              "      <td>0.060000</td>\n",
              "      <td>-0.14</td>\n",
              "      <td>-0.07</td>\n",
              "      <td>4.414286</td>\n",
              "    </tr>\n",
              "    <tr>\n",
              "      <th>2</th>\n",
              "      <td>DOT-USD</td>\n",
              "      <td>5.01</td>\n",
              "      <td>0.76</td>\n",
              "      <td>291.97</td>\n",
              "      <td>245.75</td>\n",
              "      <td>5.17</td>\n",
              "      <td>5.540000</td>\n",
              "      <td>0.07</td>\n",
              "      <td>0.64</td>\n",
              "      <td>178.68</td>\n",
              "      <td>128.77</td>\n",
              "      <td>5.510000</td>\n",
              "      <td>0.07</td>\n",
              "      <td>0.71</td>\n",
              "      <td>320.46</td>\n",
              "      <td>268.04</td>\n",
              "      <td>4.600000</td>\n",
              "      <td>-0.11</td>\n",
              "      <td>0.07</td>\n",
              "      <td>4.171429</td>\n",
              "    </tr>\n",
              "    <tr>\n",
              "      <th>0</th>\n",
              "      <td>ADA-USD</td>\n",
              "      <td>0.16</td>\n",
              "      <td>0.76</td>\n",
              "      <td>10.02</td>\n",
              "      <td>10.31</td>\n",
              "      <td>0.29</td>\n",
              "      <td>0.280000</td>\n",
              "      <td>-0.04</td>\n",
              "      <td>0.64</td>\n",
              "      <td>13.24</td>\n",
              "      <td>10.79</td>\n",
              "      <td>0.320000</td>\n",
              "      <td>0.10</td>\n",
              "      <td>0.81</td>\n",
              "      <td>15.14</td>\n",
              "      <td>14.49</td>\n",
              "      <td>0.230000</td>\n",
              "      <td>-0.20</td>\n",
              "      <td>-0.04</td>\n",
              "      <td>1.600000</td>\n",
              "    </tr>\n",
              "    <tr>\n",
              "      <th>7</th>\n",
              "      <td>XRP-USD</td>\n",
              "      <td>0.26</td>\n",
              "      <td>0.76</td>\n",
              "      <td>7.88</td>\n",
              "      <td>8.66</td>\n",
              "      <td>0.47</td>\n",
              "      <td>0.460000</td>\n",
              "      <td>-0.04</td>\n",
              "      <td>0.59</td>\n",
              "      <td>3.20</td>\n",
              "      <td>6.31</td>\n",
              "      <td>0.500000</td>\n",
              "      <td>0.06</td>\n",
              "      <td>0.66</td>\n",
              "      <td>5.71</td>\n",
              "      <td>7.63</td>\n",
              "      <td>0.420000</td>\n",
              "      <td>-0.11</td>\n",
              "      <td>-0.04</td>\n",
              "      <td>1.600000</td>\n",
              "    </tr>\n",
              "  </tbody>\n",
              "</table>\n",
              "</div>\n",
              "      <button class=\"colab-df-convert\" onclick=\"convertToInteractive('df-421b80bf-6c3f-4fbb-ae0e-eb04bb917819')\"\n",
              "              title=\"Convert this dataframe to an interactive table.\"\n",
              "              style=\"display:none;\">\n",
              "        \n",
              "  <svg xmlns=\"http://www.w3.org/2000/svg\" height=\"24px\"viewBox=\"0 0 24 24\"\n",
              "       width=\"24px\">\n",
              "    <path d=\"M0 0h24v24H0V0z\" fill=\"none\"/>\n",
              "    <path d=\"M18.56 5.44l.94 2.06.94-2.06 2.06-.94-2.06-.94-.94-2.06-.94 2.06-2.06.94zm-11 1L8.5 8.5l.94-2.06 2.06-.94-2.06-.94L8.5 2.5l-.94 2.06-2.06.94zm10 10l.94 2.06.94-2.06 2.06-.94-2.06-.94-.94-2.06-.94 2.06-2.06.94z\"/><path d=\"M17.41 7.96l-1.37-1.37c-.4-.4-.92-.59-1.43-.59-.52 0-1.04.2-1.43.59L10.3 9.45l-7.72 7.72c-.78.78-.78 2.05 0 2.83L4 21.41c.39.39.9.59 1.41.59.51 0 1.02-.2 1.41-.59l7.78-7.78 2.81-2.81c.8-.78.8-2.07 0-2.86zM5.41 20L4 18.59l7.72-7.72 1.47 1.35L5.41 20z\"/>\n",
              "  </svg>\n",
              "      </button>\n",
              "      \n",
              "  <style>\n",
              "    .colab-df-container {\n",
              "      display:flex;\n",
              "      flex-wrap:wrap;\n",
              "      gap: 12px;\n",
              "    }\n",
              "\n",
              "    .colab-df-convert {\n",
              "      background-color: #E8F0FE;\n",
              "      border: none;\n",
              "      border-radius: 50%;\n",
              "      cursor: pointer;\n",
              "      display: none;\n",
              "      fill: #1967D2;\n",
              "      height: 32px;\n",
              "      padding: 0 0 0 0;\n",
              "      width: 32px;\n",
              "    }\n",
              "\n",
              "    .colab-df-convert:hover {\n",
              "      background-color: #E2EBFA;\n",
              "      box-shadow: 0px 1px 2px rgba(60, 64, 67, 0.3), 0px 1px 3px 1px rgba(60, 64, 67, 0.15);\n",
              "      fill: #174EA6;\n",
              "    }\n",
              "\n",
              "    [theme=dark] .colab-df-convert {\n",
              "      background-color: #3B4455;\n",
              "      fill: #D2E3FC;\n",
              "    }\n",
              "\n",
              "    [theme=dark] .colab-df-convert:hover {\n",
              "      background-color: #434B5C;\n",
              "      box-shadow: 0px 1px 3px 1px rgba(0, 0, 0, 0.15);\n",
              "      filter: drop-shadow(0px 1px 2px rgba(0, 0, 0, 0.3));\n",
              "      fill: #FFFFFF;\n",
              "    }\n",
              "  </style>\n",
              "\n",
              "      <script>\n",
              "        const buttonEl =\n",
              "          document.querySelector('#df-421b80bf-6c3f-4fbb-ae0e-eb04bb917819 button.colab-df-convert');\n",
              "        buttonEl.style.display =\n",
              "          google.colab.kernel.accessAllowed ? 'block' : 'none';\n",
              "\n",
              "        async function convertToInteractive(key) {\n",
              "          const element = document.querySelector('#df-421b80bf-6c3f-4fbb-ae0e-eb04bb917819');\n",
              "          const dataTable =\n",
              "            await google.colab.kernel.invokeFunction('convertToInteractive',\n",
              "                                                     [key], {});\n",
              "          if (!dataTable) return;\n",
              "\n",
              "          const docLinkHtml = 'Like what you see? Visit the ' +\n",
              "            '<a target=\"_blank\" href=https://colab.research.google.com/notebooks/data_table.ipynb>data table notebook</a>'\n",
              "            + ' to learn more about interactive tables.';\n",
              "          element.innerHTML = '';\n",
              "          dataTable['output_type'] = 'display_data';\n",
              "          await google.colab.output.renderOutput(dataTable, element);\n",
              "          const docLink = document.createElement('div');\n",
              "          docLink.innerHTML = docLinkHtml;\n",
              "          element.appendChild(docLink);\n",
              "        }\n",
              "      </script>\n",
              "    </div>\n",
              "  </div>\n",
              "  "
            ]
          },
          "metadata": {},
          "execution_count": 12
        }
      ]
    },
    {
      "cell_type": "code",
      "source": [
        "findata.EPOCHS=200\n",
        "model = \"vols-6a-test\"\n",
        "tickers = [ 'AIRI', 'APRN', 'AUGX', 'AUR', 'AMSC', 'ASTR', 'ATOM',\n",
        "            'BKKT', 'BGSF', 'BLNK', 'BSGM',\n",
        "            'CARS', 'CLOV', 'CZOO',\n",
        "            'DLO', 'DMTK', 'DPSI', 'EVGO', 'EXPR', 'FSLY', 'FTCH',\n",
        "            'GOVX', 'GTE', 'HIMS', 'HIVE',\n",
        "            'INLX',  'JOBY',  'KIND', 'KULR',\n",
        "            'LAZR', 'MMMB', 'MTTR',\n",
        "            'NEPH', 'NSTG', 'OMQS', 'ONDS', 'OPEN', 'OTLY', 'OUST',\n",
        "            'RAD', 'REAL', 'RIDE', 'RIG', 'RVYL', 'SFIX', 'STEM',\n",
        "            'SFT',  'TELL', 'YEXT']"
      ],
      "metadata": {
        "id": "BqVsWVallUyL"
      },
      "execution_count": null,
      "outputs": []
    },
    {
      "cell_type": "code",
      "source": [],
      "metadata": {
        "id": "1viCvZbzoCBl"
      },
      "execution_count": null,
      "outputs": []
    },
    {
      "cell_type": "code",
      "source": [
        "pending = ['PAR']\n",
        "findata.EPOCHS=200\n",
        "model = \"ipos-6a-test\"\n",
        "tickers = ['ABNB', 'ACLS' ,'AI', 'AMBA', 'APP',\n",
        "           'BILL', 'BMBL', 'CELH', 'CFLT', 'CHGG', 'CRCT', 'CRWD',\n",
        "           'DASH', 'DBX', 'DDOG', 'DOCN', 'DOCS', 'DOCU', 'DXCM',\n",
        "           'ESTC', 'ETSY', 'EXPE', 'FOUR', 'GFS', 'GLBE', 'GOGO',\n",
        "           'INDI', 'INMD', 'INTA', 'IOT','JKS', 'LUMN', 'LYFT',\n",
        "           'MAXR', 'MBLY', 'MDB',  'MNDY', 'MNST', 'MPWR',  'MXL',\n",
        "           'MTCH',  'NVCR','OKTA', 'OLED', 'OSTK',\n",
        "           'PERI', 'PANW', 'PAYO', 'PD', 'PLUG', 'PI', 'PINS', 'PTON', 'PUBM',\n",
        "           'RBLX', 'SNAP', 'SNOW', 'SPLK', 'SPOT','STEM',\n",
        "           'TEAM', 'TDOC', 'TOST', 'TTD', 'TWLO',\n",
        "           'U','UI', 'UBER', 'UPWK', 'WOLF', 'VEEV', 'Z', 'ZM', 'ZS']"
      ],
      "metadata": {
        "id": "pQ1Lu6vGoFMt"
      },
      "execution_count": null,
      "outputs": []
    },
    {
      "cell_type": "code",
      "source": [
        "findata.EPOCHS=200\n",
        "model = \"cetf-5b-test\"\n",
        "tickers = ['ARGT', 'EWD', 'CUBS', 'FLN', 'FM',\n",
        "            'ECH', 'EWA', 'EWI', 'EWC', 'EWM', 'EWP', 'EWW', 'EWY', 'EWZ',\n",
        "            'IDX', 'ILF', 'KEMQ', 'THD', 'TUR', 'XCEM']"
      ],
      "metadata": {
        "id": "Hr3qq_BNKEbo"
      },
      "execution_count": null,
      "outputs": []
    },
    {
      "cell_type": "code",
      "source": [
        "findata.EPOCHS=200\n",
        "model = \"com-5b-test\"\n",
        "tickers = [ 'GLD', 'ISHG', 'PDBC', 'SLV', 'SOYB',\n",
        "            'TIP', 'TLT', 'UUP', 'VTIP', 'WEAT']"
      ],
      "metadata": {
        "id": "WB6nc6tqmO6Q"
      },
      "execution_count": 7,
      "outputs": []
    },
    {
      "cell_type": "code",
      "source": [
        "lossfn = \"huber_loss\"\n",
        "mod = pipeline.RateReturnOnly(\n",
        "    pipeline.FeatureSeq([pipeline.AddDayMonth(),\n",
        "                         pipeline.AddVWap(),\n",
        "                         pipeline.AddMA(200),\n",
        "                         pipeline.Adj()\n",
        "                         ]))\n",
        "\n",
        "\n",
        "#df  = pipeline.runModelCombined(tickers, 'ipos2-3a', mod, False, loss=lossfn, output='low', trading=pipeline.LowTrading)[0]\n",
        "#df  = pipeline.runModelCombined(tickers, 'ipos2-3a', mod, False, loss=lossfn, output='high', trading=pipeline.HighTrading)[0]\n",
        "df  = pipeline.runModelCombinedVola(tickers, model, mod, False, loss=lossfn)"
      ],
      "metadata": {
        "id": "0g6k_MjqIk7D"
      },
      "execution_count": null,
      "outputs": []
    },
    {
      "cell_type": "code",
      "source": [
        "addAllocHL(df, 0.10, 1)\n",
        "df.iloc[(df.Alloc * abs(df.Gain_f)).sort_values(ascending=False).index].head(50)\n",
        "#df.sort_values('Alloc', ascending=False).head(50)"
      ],
      "metadata": {
        "id": "Ui53LUGTIy4j",
        "outputId": "f29a7d34-8a86-448d-ba3a-beb7646ba9b4",
        "colab": {
          "base_uri": "https://localhost:8080/",
          "height": 359
        }
      },
      "execution_count": 9,
      "outputs": [
        {
          "output_type": "execute_result",
          "data": {
            "text/plain": [
              "  Ticker   Error  Accu     Buy    Sell    Last        Pred  Gain  Accu_h  \\\n",
              "2   PDBC    6.65  0.85   53.04   28.09   13.61   12.900000 -0.05    0.69   \n",
              "4   SOYB   13.67  0.82   66.19   40.87   27.32   26.540001 -0.03    0.63   \n",
              "3    SLV   11.62  0.86   96.53  117.79   20.89   20.430000 -0.02    0.62   \n",
              "9   WEAT    5.03  0.85   33.76   31.08    6.44    6.300000 -0.02    0.57   \n",
              "0    GLD  135.41  0.71  283.41  236.86  178.27  180.199997  0.01    0.63   \n",
              "1   ISHG   63.68  0.86   72.00   96.44   69.25   69.800003  0.01    0.56   \n",
              "5    TIP   96.44  0.80  138.38   96.17  107.62  110.230003  0.02    0.66   \n",
              "6    TLT   92.05  0.82  211.40  322.96  102.94  101.650002 -0.01    0.54   \n",
              "7    UUP   24.02  0.81   26.29   30.62   28.38   28.420000  0.00    0.56   \n",
              "8   VTIP   41.43  0.81   32.52   11.12   47.42   47.580002  0.00    0.67   \n",
              "\n",
              "    Buy_h  Sell_h      Pred_h  Gain_h  Accu_l   Buy_l  Sell_l      Pred_l  \\\n",
              "2   39.95   26.60   14.170000    0.04    0.56   13.89    1.35   13.120000   \n",
              "4   40.60   16.36   27.370001    0.00    0.55   35.31    8.06   25.760000   \n",
              "3   77.73   54.54   21.420000    0.03    0.49    5.57  -41.84   20.000000   \n",
              "9    4.62    7.31    6.970000    0.08    0.56    8.75    3.01    6.000000   \n",
              "0  187.07  157.80  180.410004    0.01    0.47  117.87  -74.10  173.960007   \n",
              "1    2.39    6.65   69.430000    0.00    0.49  -22.87   26.50   68.919998   \n",
              "5   93.88   49.20  108.639999    0.01    0.38   -0.20   -9.70  106.000000   \n",
              "6  -10.23  152.63  104.900002    0.02    0.54   -5.55  153.93  100.089996   \n",
              "7   15.44   12.42   28.629999    0.01    0.61    8.65    6.34   28.020000   \n",
              "8   20.46    5.88   47.720001    0.01    0.44    8.94    3.56   46.970001   \n",
              "\n",
              "   Gain_l  Gain_f  Alloc  \n",
              "2   -0.04   -0.04   4.75  \n",
              "4   -0.06   -0.03   2.20  \n",
              "3   -0.04   -0.02   1.60  \n",
              "9   -0.07   -0.02   1.00  \n",
              "0   -0.02    0.01   0.00  \n",
              "1   -0.00    0.00   0.00  \n",
              "5   -0.02    0.01   0.00  \n",
              "6   -0.03   -0.01   0.00  \n",
              "7   -0.01    0.00   0.00  \n",
              "8   -0.01    0.00   0.00  "
            ],
            "text/html": [
              "\n",
              "  <div id=\"df-86d23df7-ba7f-4ad4-9050-596ce23eca63\">\n",
              "    <div class=\"colab-df-container\">\n",
              "      <div>\n",
              "<style scoped>\n",
              "    .dataframe tbody tr th:only-of-type {\n",
              "        vertical-align: middle;\n",
              "    }\n",
              "\n",
              "    .dataframe tbody tr th {\n",
              "        vertical-align: top;\n",
              "    }\n",
              "\n",
              "    .dataframe thead th {\n",
              "        text-align: right;\n",
              "    }\n",
              "</style>\n",
              "<table border=\"1\" class=\"dataframe\">\n",
              "  <thead>\n",
              "    <tr style=\"text-align: right;\">\n",
              "      <th></th>\n",
              "      <th>Ticker</th>\n",
              "      <th>Error</th>\n",
              "      <th>Accu</th>\n",
              "      <th>Buy</th>\n",
              "      <th>Sell</th>\n",
              "      <th>Last</th>\n",
              "      <th>Pred</th>\n",
              "      <th>Gain</th>\n",
              "      <th>Accu_h</th>\n",
              "      <th>Buy_h</th>\n",
              "      <th>Sell_h</th>\n",
              "      <th>Pred_h</th>\n",
              "      <th>Gain_h</th>\n",
              "      <th>Accu_l</th>\n",
              "      <th>Buy_l</th>\n",
              "      <th>Sell_l</th>\n",
              "      <th>Pred_l</th>\n",
              "      <th>Gain_l</th>\n",
              "      <th>Gain_f</th>\n",
              "      <th>Alloc</th>\n",
              "    </tr>\n",
              "  </thead>\n",
              "  <tbody>\n",
              "    <tr>\n",
              "      <th>2</th>\n",
              "      <td>PDBC</td>\n",
              "      <td>6.65</td>\n",
              "      <td>0.85</td>\n",
              "      <td>53.04</td>\n",
              "      <td>28.09</td>\n",
              "      <td>13.61</td>\n",
              "      <td>12.900000</td>\n",
              "      <td>-0.05</td>\n",
              "      <td>0.69</td>\n",
              "      <td>39.95</td>\n",
              "      <td>26.60</td>\n",
              "      <td>14.170000</td>\n",
              "      <td>0.04</td>\n",
              "      <td>0.56</td>\n",
              "      <td>13.89</td>\n",
              "      <td>1.35</td>\n",
              "      <td>13.120000</td>\n",
              "      <td>-0.04</td>\n",
              "      <td>-0.04</td>\n",
              "      <td>4.75</td>\n",
              "    </tr>\n",
              "    <tr>\n",
              "      <th>4</th>\n",
              "      <td>SOYB</td>\n",
              "      <td>13.67</td>\n",
              "      <td>0.82</td>\n",
              "      <td>66.19</td>\n",
              "      <td>40.87</td>\n",
              "      <td>27.32</td>\n",
              "      <td>26.540001</td>\n",
              "      <td>-0.03</td>\n",
              "      <td>0.63</td>\n",
              "      <td>40.60</td>\n",
              "      <td>16.36</td>\n",
              "      <td>27.370001</td>\n",
              "      <td>0.00</td>\n",
              "      <td>0.55</td>\n",
              "      <td>35.31</td>\n",
              "      <td>8.06</td>\n",
              "      <td>25.760000</td>\n",
              "      <td>-0.06</td>\n",
              "      <td>-0.03</td>\n",
              "      <td>2.20</td>\n",
              "    </tr>\n",
              "    <tr>\n",
              "      <th>3</th>\n",
              "      <td>SLV</td>\n",
              "      <td>11.62</td>\n",
              "      <td>0.86</td>\n",
              "      <td>96.53</td>\n",
              "      <td>117.79</td>\n",
              "      <td>20.89</td>\n",
              "      <td>20.430000</td>\n",
              "      <td>-0.02</td>\n",
              "      <td>0.62</td>\n",
              "      <td>77.73</td>\n",
              "      <td>54.54</td>\n",
              "      <td>21.420000</td>\n",
              "      <td>0.03</td>\n",
              "      <td>0.49</td>\n",
              "      <td>5.57</td>\n",
              "      <td>-41.84</td>\n",
              "      <td>20.000000</td>\n",
              "      <td>-0.04</td>\n",
              "      <td>-0.02</td>\n",
              "      <td>1.60</td>\n",
              "    </tr>\n",
              "    <tr>\n",
              "      <th>9</th>\n",
              "      <td>WEAT</td>\n",
              "      <td>5.03</td>\n",
              "      <td>0.85</td>\n",
              "      <td>33.76</td>\n",
              "      <td>31.08</td>\n",
              "      <td>6.44</td>\n",
              "      <td>6.300000</td>\n",
              "      <td>-0.02</td>\n",
              "      <td>0.57</td>\n",
              "      <td>4.62</td>\n",
              "      <td>7.31</td>\n",
              "      <td>6.970000</td>\n",
              "      <td>0.08</td>\n",
              "      <td>0.56</td>\n",
              "      <td>8.75</td>\n",
              "      <td>3.01</td>\n",
              "      <td>6.000000</td>\n",
              "      <td>-0.07</td>\n",
              "      <td>-0.02</td>\n",
              "      <td>1.00</td>\n",
              "    </tr>\n",
              "    <tr>\n",
              "      <th>0</th>\n",
              "      <td>GLD</td>\n",
              "      <td>135.41</td>\n",
              "      <td>0.71</td>\n",
              "      <td>283.41</td>\n",
              "      <td>236.86</td>\n",
              "      <td>178.27</td>\n",
              "      <td>180.199997</td>\n",
              "      <td>0.01</td>\n",
              "      <td>0.63</td>\n",
              "      <td>187.07</td>\n",
              "      <td>157.80</td>\n",
              "      <td>180.410004</td>\n",
              "      <td>0.01</td>\n",
              "      <td>0.47</td>\n",
              "      <td>117.87</td>\n",
              "      <td>-74.10</td>\n",
              "      <td>173.960007</td>\n",
              "      <td>-0.02</td>\n",
              "      <td>0.01</td>\n",
              "      <td>0.00</td>\n",
              "    </tr>\n",
              "    <tr>\n",
              "      <th>1</th>\n",
              "      <td>ISHG</td>\n",
              "      <td>63.68</td>\n",
              "      <td>0.86</td>\n",
              "      <td>72.00</td>\n",
              "      <td>96.44</td>\n",
              "      <td>69.25</td>\n",
              "      <td>69.800003</td>\n",
              "      <td>0.01</td>\n",
              "      <td>0.56</td>\n",
              "      <td>2.39</td>\n",
              "      <td>6.65</td>\n",
              "      <td>69.430000</td>\n",
              "      <td>0.00</td>\n",
              "      <td>0.49</td>\n",
              "      <td>-22.87</td>\n",
              "      <td>26.50</td>\n",
              "      <td>68.919998</td>\n",
              "      <td>-0.00</td>\n",
              "      <td>0.00</td>\n",
              "      <td>0.00</td>\n",
              "    </tr>\n",
              "    <tr>\n",
              "      <th>5</th>\n",
              "      <td>TIP</td>\n",
              "      <td>96.44</td>\n",
              "      <td>0.80</td>\n",
              "      <td>138.38</td>\n",
              "      <td>96.17</td>\n",
              "      <td>107.62</td>\n",
              "      <td>110.230003</td>\n",
              "      <td>0.02</td>\n",
              "      <td>0.66</td>\n",
              "      <td>93.88</td>\n",
              "      <td>49.20</td>\n",
              "      <td>108.639999</td>\n",
              "      <td>0.01</td>\n",
              "      <td>0.38</td>\n",
              "      <td>-0.20</td>\n",
              "      <td>-9.70</td>\n",
              "      <td>106.000000</td>\n",
              "      <td>-0.02</td>\n",
              "      <td>0.01</td>\n",
              "      <td>0.00</td>\n",
              "    </tr>\n",
              "    <tr>\n",
              "      <th>6</th>\n",
              "      <td>TLT</td>\n",
              "      <td>92.05</td>\n",
              "      <td>0.82</td>\n",
              "      <td>211.40</td>\n",
              "      <td>322.96</td>\n",
              "      <td>102.94</td>\n",
              "      <td>101.650002</td>\n",
              "      <td>-0.01</td>\n",
              "      <td>0.54</td>\n",
              "      <td>-10.23</td>\n",
              "      <td>152.63</td>\n",
              "      <td>104.900002</td>\n",
              "      <td>0.02</td>\n",
              "      <td>0.54</td>\n",
              "      <td>-5.55</td>\n",
              "      <td>153.93</td>\n",
              "      <td>100.089996</td>\n",
              "      <td>-0.03</td>\n",
              "      <td>-0.01</td>\n",
              "      <td>0.00</td>\n",
              "    </tr>\n",
              "    <tr>\n",
              "      <th>7</th>\n",
              "      <td>UUP</td>\n",
              "      <td>24.02</td>\n",
              "      <td>0.81</td>\n",
              "      <td>26.29</td>\n",
              "      <td>30.62</td>\n",
              "      <td>28.38</td>\n",
              "      <td>28.420000</td>\n",
              "      <td>0.00</td>\n",
              "      <td>0.56</td>\n",
              "      <td>15.44</td>\n",
              "      <td>12.42</td>\n",
              "      <td>28.629999</td>\n",
              "      <td>0.01</td>\n",
              "      <td>0.61</td>\n",
              "      <td>8.65</td>\n",
              "      <td>6.34</td>\n",
              "      <td>28.020000</td>\n",
              "      <td>-0.01</td>\n",
              "      <td>0.00</td>\n",
              "      <td>0.00</td>\n",
              "    </tr>\n",
              "    <tr>\n",
              "      <th>8</th>\n",
              "      <td>VTIP</td>\n",
              "      <td>41.43</td>\n",
              "      <td>0.81</td>\n",
              "      <td>32.52</td>\n",
              "      <td>11.12</td>\n",
              "      <td>47.42</td>\n",
              "      <td>47.580002</td>\n",
              "      <td>0.00</td>\n",
              "      <td>0.67</td>\n",
              "      <td>20.46</td>\n",
              "      <td>5.88</td>\n",
              "      <td>47.720001</td>\n",
              "      <td>0.01</td>\n",
              "      <td>0.44</td>\n",
              "      <td>8.94</td>\n",
              "      <td>3.56</td>\n",
              "      <td>46.970001</td>\n",
              "      <td>-0.01</td>\n",
              "      <td>0.00</td>\n",
              "      <td>0.00</td>\n",
              "    </tr>\n",
              "  </tbody>\n",
              "</table>\n",
              "</div>\n",
              "      <button class=\"colab-df-convert\" onclick=\"convertToInteractive('df-86d23df7-ba7f-4ad4-9050-596ce23eca63')\"\n",
              "              title=\"Convert this dataframe to an interactive table.\"\n",
              "              style=\"display:none;\">\n",
              "        \n",
              "  <svg xmlns=\"http://www.w3.org/2000/svg\" height=\"24px\"viewBox=\"0 0 24 24\"\n",
              "       width=\"24px\">\n",
              "    <path d=\"M0 0h24v24H0V0z\" fill=\"none\"/>\n",
              "    <path d=\"M18.56 5.44l.94 2.06.94-2.06 2.06-.94-2.06-.94-.94-2.06-.94 2.06-2.06.94zm-11 1L8.5 8.5l.94-2.06 2.06-.94-2.06-.94L8.5 2.5l-.94 2.06-2.06.94zm10 10l.94 2.06.94-2.06 2.06-.94-2.06-.94-.94-2.06-.94 2.06-2.06.94z\"/><path d=\"M17.41 7.96l-1.37-1.37c-.4-.4-.92-.59-1.43-.59-.52 0-1.04.2-1.43.59L10.3 9.45l-7.72 7.72c-.78.78-.78 2.05 0 2.83L4 21.41c.39.39.9.59 1.41.59.51 0 1.02-.2 1.41-.59l7.78-7.78 2.81-2.81c.8-.78.8-2.07 0-2.86zM5.41 20L4 18.59l7.72-7.72 1.47 1.35L5.41 20z\"/>\n",
              "  </svg>\n",
              "      </button>\n",
              "      \n",
              "  <style>\n",
              "    .colab-df-container {\n",
              "      display:flex;\n",
              "      flex-wrap:wrap;\n",
              "      gap: 12px;\n",
              "    }\n",
              "\n",
              "    .colab-df-convert {\n",
              "      background-color: #E8F0FE;\n",
              "      border: none;\n",
              "      border-radius: 50%;\n",
              "      cursor: pointer;\n",
              "      display: none;\n",
              "      fill: #1967D2;\n",
              "      height: 32px;\n",
              "      padding: 0 0 0 0;\n",
              "      width: 32px;\n",
              "    }\n",
              "\n",
              "    .colab-df-convert:hover {\n",
              "      background-color: #E2EBFA;\n",
              "      box-shadow: 0px 1px 2px rgba(60, 64, 67, 0.3), 0px 1px 3px 1px rgba(60, 64, 67, 0.15);\n",
              "      fill: #174EA6;\n",
              "    }\n",
              "\n",
              "    [theme=dark] .colab-df-convert {\n",
              "      background-color: #3B4455;\n",
              "      fill: #D2E3FC;\n",
              "    }\n",
              "\n",
              "    [theme=dark] .colab-df-convert:hover {\n",
              "      background-color: #434B5C;\n",
              "      box-shadow: 0px 1px 3px 1px rgba(0, 0, 0, 0.15);\n",
              "      filter: drop-shadow(0px 1px 2px rgba(0, 0, 0, 0.3));\n",
              "      fill: #FFFFFF;\n",
              "    }\n",
              "  </style>\n",
              "\n",
              "      <script>\n",
              "        const buttonEl =\n",
              "          document.querySelector('#df-86d23df7-ba7f-4ad4-9050-596ce23eca63 button.colab-df-convert');\n",
              "        buttonEl.style.display =\n",
              "          google.colab.kernel.accessAllowed ? 'block' : 'none';\n",
              "\n",
              "        async function convertToInteractive(key) {\n",
              "          const element = document.querySelector('#df-86d23df7-ba7f-4ad4-9050-596ce23eca63');\n",
              "          const dataTable =\n",
              "            await google.colab.kernel.invokeFunction('convertToInteractive',\n",
              "                                                     [key], {});\n",
              "          if (!dataTable) return;\n",
              "\n",
              "          const docLinkHtml = 'Like what you see? Visit the ' +\n",
              "            '<a target=\"_blank\" href=https://colab.research.google.com/notebooks/data_table.ipynb>data table notebook</a>'\n",
              "            + ' to learn more about interactive tables.';\n",
              "          element.innerHTML = '';\n",
              "          dataTable['output_type'] = 'display_data';\n",
              "          await google.colab.output.renderOutput(dataTable, element);\n",
              "          const docLink = document.createElement('div');\n",
              "          docLink.innerHTML = docLinkHtml;\n",
              "          element.appendChild(docLink);\n",
              "        }\n",
              "      </script>\n",
              "    </div>\n",
              "  </div>\n",
              "  "
            ]
          },
          "metadata": {},
          "execution_count": 9
        }
      ]
    },
    {
      "cell_type": "code",
      "execution_count": null,
      "metadata": {
        "id": "_lUUYXO9xMty"
      },
      "outputs": [],
      "source": [
        "import pandas as pd\n",
        "df1 = pipeline.fetch_data('ABNB')\n",
        "#df1.sort_index(inplace=True)\n",
        "df1 = df1.round(3)\n",
        "\n",
        "df2 = pd.read_csv('data/ABNB_2023-04-15.csv', index_col=0)\n",
        "df2.index =  pd.to_datetime(df2.index)\n",
        "# df2 = df2.round(3)\n",
        "#data2 = data.tail(1000)\n",
        "#pd.concat([df1,df2]).drop_duplicates(keep=False)\n",
        "#df1.compare(df2)\n",
        "#df2.index.dtype\n",
        "df1"
      ]
    },
    {
      "cell_type": "code",
      "execution_count": null,
      "metadata": {
        "id": "Sw99bVXNIEym"
      },
      "outputs": [],
      "source": [
        "display(df.sort_values('Gain', ascending=False))\n",
        "display(df[[\"Buy\", \"Sell\", \"Total\"]].sum()/len(df))\n"
      ]
    },
    {
      "cell_type": "code",
      "execution_count": null,
      "metadata": {
        "id": "g8YUKnIIxMtz"
      },
      "outputs": [],
      "source": [
        "results['ABNB'].pdata.__dict__.keys()"
      ]
    },
    {
      "cell_type": "code",
      "execution_count": null,
      "metadata": {
        "id": "8f5Ns68gHHpf"
      },
      "outputs": [],
      "source": [
        "findata.EPOCHS=10\n",
        "tickers1 = ['ARKK', 'ARKW', 'DAPP', 'DTEC', 'EEM', 'FPX',\n",
        "            'GBTC', 'GLD',\n",
        "            'ICLN', 'IJR', 'IPO', 'IPOS', 'IWM',\n",
        "            'JETS', 'KEMQ',\n",
        "            'MGK', 'MGV', 'MOAT', 'MTUM',\n",
        "            'QQQ', 'SLV','SMH', 'SMOG',\n",
        "            'SPY', 'VNQ', 'VT', 'VTI', 'WDIV',\n",
        "            'XLB', 'XLC', 'XLE', 'XLF', 'XLI', 'XLK',\n",
        "            'XLRE', 'XLU', 'XLV', 'XLY', 'XME' ]\n",
        "mod = pipeline.RateReturnOnly(pipeline.FeatureSeq([pipeline.AddDayMonth(), pipeline.AddVWap()]))\n",
        "df1 = pipeline.runModelCombined(tickers1, 'etf2b', mod, True)"
      ]
    },
    {
      "cell_type": "code",
      "execution_count": null,
      "metadata": {
        "id": "X0wy3LeuIMg7"
      },
      "outputs": [],
      "source": [
        "df1.sort_values('Gain', ascending=False)"
      ]
    },
    {
      "cell_type": "code",
      "execution_count": null,
      "metadata": {
        "id": "o8wpIWG5xMt0"
      },
      "outputs": [],
      "source": [
        "findata.EPOCHS=200\n",
        "tickers3 = [\n",
        "           'AHT', 'AMSC', 'ASTR', 'ATOM',\n",
        "           'BKKT', 'BGFV', 'BGSF', 'CBNT', 'CLOV',\n",
        "           'DNMR', 'ERJ', 'EVGO',\n",
        "           'FSLY',  'FTCH', 'GOGO', 'HIVE',\n",
        "           'ILAL', 'INLX', 'JMIA', 'JOBY',  'KULR', 'MTTR',\n",
        "           'MYTE', 'NEPH', 'ONDS', 'MQ',\n",
        "           'PETS', 'PTON', 'SFIX', 'SFT', 'STNE',\n",
        "           'ULH', 'VRAR', 'WISH']\n",
        "lossfn = \"huber_loss\"\n",
        "# lossfn = \"mean_squared_error\"\n",
        "mod = pipeline.RateReturnOnly(\n",
        "    pipeline.FeatureSeq([pipeline.AddDayMonth(), pipeline.AddVWap(), pipeline.AddMA(200)]))\n",
        "df3, results = pipeline.runModelCombined(tickers3, 'vols', mod, False, loss=lossfn)"
      ]
    },
    {
      "cell_type": "code",
      "execution_count": null,
      "metadata": {
        "id": "ocQUbPFexMt0"
      },
      "outputs": [],
      "source": [
        "df3"
      ]
    },
    {
      "cell_type": "code",
      "execution_count": null,
      "metadata": {
        "id": "9qUk7m7OxMt0"
      },
      "outputs": [],
      "source": [
        "import pandas as pd\n",
        "seq = list()\n",
        "for ticker, result in results.items():\n",
        "    tempdf = result.final_df\n",
        "    tempdf['predicted_rate'] = (tempdf['adjclose_15']-tempdf['adjclose'])/tempdf['adjclose']\n",
        "    tempdf['true_rate'] = (tempdf['true_adjclose_15']-tempdf['adjclose'])/tempdf['adjclose']\n",
        "    seq.append(tempdf[['ticker', 'date', \"predicted_rate\", 'true_rate']])\n",
        "\n",
        "detailstat = pd.concat(seq)\n",
        "\n"
      ]
    },
    {
      "cell_type": "code",
      "execution_count": null,
      "metadata": {
        "id": "8A-m6zpNxMt0"
      },
      "outputs": [],
      "source": [
        "normalstat = detailstat[detailstat['predicted_rate'].between(-2,2) & detailstat['true_rate'].between(-2,2)]\n",
        "largestat = normalstat[~ normalstat['predicted_rate'].between(-0.25,0.25) & ~ normalstat['true_rate'].between(-0.25,0.25)]\n",
        "largestat.sample(10)"
      ]
    },
    {
      "cell_type": "code",
      "execution_count": null,
      "metadata": {
        "id": "tJuZYVgpxMt1"
      },
      "outputs": [],
      "source": [
        "ax = largestat.plot.scatter(x='predicted_rate', y='true_rate',c='DarkBlue', figsize=(10,10))\n",
        "# ax.set_yscale('log')\n",
        "# ax.set_xscale('log')"
      ]
    },
    {
      "cell_type": "code",
      "execution_count": null,
      "metadata": {
        "id": "eFvLtoUFxMt1"
      },
      "outputs": [],
      "source": [
        "# import matplotlib.pyplot as plt\n",
        "\n",
        "# plt.hist([normalstat['predicted_rate'],normalstat['predicted_rate']],\n",
        "#          bins=100, range=(-1,1), color = ['r','g'])\n",
        "\n",
        "corr = largestat[[\"predicted_rate\", \"true_rate\"]].corr()\n",
        "\n",
        "corr.style.background_gradient(cmap='coolwarm')"
      ]
    },
    {
      "cell_type": "code",
      "execution_count": null,
      "metadata": {
        "id": "OF4rNi6rxMt1"
      },
      "outputs": [],
      "source": [
        "\n",
        "sns.regplot(x=largestat[\"predicted_rate\"], y=largestat[\"true_rate\"])\n"
      ]
    },
    {
      "cell_type": "code",
      "execution_count": null,
      "metadata": {
        "id": "e7V3jPQVxMt1"
      },
      "outputs": [],
      "source": [
        "sns.heatmap(normalstat[[\"predicted_rate\", \"true_rate\"]].corr(), annot = True, fmt='.2g',cmap= 'coolwarm')"
      ]
    },
    {
      "cell_type": "code",
      "execution_count": 13,
      "metadata": {
        "colab": {
          "base_uri": "https://localhost:8080/"
        },
        "id": "lawcUcT2xMt1",
        "outputId": "f9ebbeb6-aae5-4b00-93dc-1b933cf4c7dd"
      },
      "outputs": [
        {
          "output_type": "stream",
          "name": "stdout",
          "text": [
            "sending incremental file list\n",
            "cry-6b-test-adjclose-sh-1-sc-1-sbd-0-seq-50-step-15-wRROnly-wdm-wvwap-wma-adjclose-200-wadj-model-huber_loss-adam-LSTM-layers-2-units-256.h5\n",
            "cry-6b-test-high-sh-1-sc-1-sbd-0-seq-50-step-15-wRROnly-wdm-wvwap-wma-adjclose-200-wadj-model-huber_loss-adam-LSTM-layers-2-units-256.h5\n",
            "cry-6b-test-low-sh-1-sc-1-sbd-0-seq-50-step-15-wRROnly-wdm-wvwap-wma-adjclose-200-wadj-model-huber_loss-adam-LSTM-layers-2-units-256.h5\n",
            "\n",
            "sent 9,647,865 bytes  received 73 bytes  19,295,876.00 bytes/sec\n",
            "total size is 186,321,192  speedup is 19.31\n"
          ]
        }
      ],
      "source": [
        "!rsync -av --ignore-existing results/* /content/drive/MyDrive/colab/results/\n"
      ]
    }
  ],
  "metadata": {
    "accelerator": "GPU",
    "colab": {
      "name": "TestLocal.ipynb",
      "provenance": [],
      "machine_shape": "hm",
      "gpuType": "A100"
    },
    "kernelspec": {
      "display_name": "Python 3",
      "name": "python3"
    },
    "language_info": {
      "codemirror_mode": {
        "name": "ipython",
        "version": 3
      },
      "file_extension": ".py",
      "mimetype": "text/x-python",
      "name": "python",
      "nbconvert_exporter": "python",
      "pygments_lexer": "ipython3",
      "version": "3.10.9"
    }
  },
  "nbformat": 4,
  "nbformat_minor": 0
}